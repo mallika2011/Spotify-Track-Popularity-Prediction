{
 "cells": [
  {
   "cell_type": "code",
   "execution_count": 1,
   "metadata": {},
   "outputs": [],
   "source": [
    "# Importing required libraries\n",
    "import pandas as pd\n",
    "import numpy as np\n",
    "import matplotlib.pyplot as plt\n",
    "import seaborn as sns\n",
    "\n",
    "# Forcing outputs in jupyter notebook\n",
    "from IPython.core.interactiveshell import InteractiveShell\n",
    "InteractiveShell.ast_node_interactivity = \"all\""
   ]
  },
  {
   "cell_type": "code",
   "execution_count": 33,
   "metadata": {},
   "outputs": [
    {
     "data": {
      "text/html": [
       "<div>\n",
       "<style scoped>\n",
       "    .dataframe tbody tr th:only-of-type {\n",
       "        vertical-align: middle;\n",
       "    }\n",
       "\n",
       "    .dataframe tbody tr th {\n",
       "        vertical-align: top;\n",
       "    }\n",
       "\n",
       "    .dataframe thead th {\n",
       "        text-align: right;\n",
       "    }\n",
       "</style>\n",
       "<table border=\"1\" class=\"dataframe\">\n",
       "  <thead>\n",
       "    <tr style=\"text-align: right;\">\n",
       "      <th></th>\n",
       "      <th>track_id</th>\n",
       "      <th>track_name</th>\n",
       "      <th>popularity</th>\n",
       "      <th>acousticness</th>\n",
       "      <th>danceability</th>\n",
       "      <th>duration_ms</th>\n",
       "      <th>energy</th>\n",
       "      <th>instrumentalness</th>\n",
       "      <th>liveness</th>\n",
       "      <th>loudness</th>\n",
       "      <th>...</th>\n",
       "      <th>total_available_markets</th>\n",
       "      <th>release_date</th>\n",
       "      <th>topartist_id</th>\n",
       "      <th>topartist_name</th>\n",
       "      <th>artist_names</th>\n",
       "      <th>key</th>\n",
       "      <th>mode</th>\n",
       "      <th>time_signature</th>\n",
       "      <th>artist_genre</th>\n",
       "      <th>artist_genre_list</th>\n",
       "    </tr>\n",
       "  </thead>\n",
       "  <tbody>\n",
       "    <tr>\n",
       "      <th>0</th>\n",
       "      <td>7lPN2DXiMsVn7XUKtOW1CS</td>\n",
       "      <td>drivers license</td>\n",
       "      <td>100</td>\n",
       "      <td>0.72100</td>\n",
       "      <td>0.585</td>\n",
       "      <td>242014.0</td>\n",
       "      <td>0.436</td>\n",
       "      <td>0.000013</td>\n",
       "      <td>0.1050</td>\n",
       "      <td>-8.761</td>\n",
       "      <td>...</td>\n",
       "      <td>1.0</td>\n",
       "      <td>2021-01-08</td>\n",
       "      <td>1McMsnEElThX1knmY4oliG</td>\n",
       "      <td>Olivia Rodrigo</td>\n",
       "      <td>Olivia Rodrigo;</td>\n",
       "      <td>10.0</td>\n",
       "      <td>1.0</td>\n",
       "      <td>4.0</td>\n",
       "      <td>pop</td>\n",
       "      <td>pop;</td>\n",
       "    </tr>\n",
       "    <tr>\n",
       "      <th>1</th>\n",
       "      <td>5QO79kh1waicV47BqGRL3g</td>\n",
       "      <td>Save Your Tears</td>\n",
       "      <td>96</td>\n",
       "      <td>0.02120</td>\n",
       "      <td>0.680</td>\n",
       "      <td>215627.0</td>\n",
       "      <td>0.826</td>\n",
       "      <td>0.000012</td>\n",
       "      <td>0.5430</td>\n",
       "      <td>-5.487</td>\n",
       "      <td>...</td>\n",
       "      <td>184.0</td>\n",
       "      <td>2020-03-20</td>\n",
       "      <td>1Xyo4u8uXC1ZmMpatF05PJ</td>\n",
       "      <td>The Weeknd</td>\n",
       "      <td>The Weeknd;</td>\n",
       "      <td>0.0</td>\n",
       "      <td>1.0</td>\n",
       "      <td>4.0</td>\n",
       "      <td>canadian contemporary r&amp;b</td>\n",
       "      <td>canadian contemporary r&amp;b;canadian pop;pop;</td>\n",
       "    </tr>\n",
       "    <tr>\n",
       "      <th>2</th>\n",
       "      <td>0VjIjW4GlUZAMYd2vXMi3b</td>\n",
       "      <td>Blinding Lights</td>\n",
       "      <td>96</td>\n",
       "      <td>0.00146</td>\n",
       "      <td>0.514</td>\n",
       "      <td>200040.0</td>\n",
       "      <td>0.730</td>\n",
       "      <td>0.000095</td>\n",
       "      <td>0.0897</td>\n",
       "      <td>-5.934</td>\n",
       "      <td>...</td>\n",
       "      <td>184.0</td>\n",
       "      <td>2020-03-20</td>\n",
       "      <td>1Xyo4u8uXC1ZmMpatF05PJ</td>\n",
       "      <td>The Weeknd</td>\n",
       "      <td>The Weeknd;</td>\n",
       "      <td>1.0</td>\n",
       "      <td>1.0</td>\n",
       "      <td>4.0</td>\n",
       "      <td>canadian contemporary r&amp;b</td>\n",
       "      <td>canadian contemporary r&amp;b;canadian pop;pop;</td>\n",
       "    </tr>\n",
       "    <tr>\n",
       "      <th>3</th>\n",
       "      <td>3tjFYV6RSFtuktYl3ZtYcq</td>\n",
       "      <td>Mood (feat. iann dior)</td>\n",
       "      <td>95</td>\n",
       "      <td>0.22100</td>\n",
       "      <td>0.700</td>\n",
       "      <td>140526.0</td>\n",
       "      <td>0.722</td>\n",
       "      <td>0.000000</td>\n",
       "      <td>0.2720</td>\n",
       "      <td>-3.558</td>\n",
       "      <td>...</td>\n",
       "      <td>0.0</td>\n",
       "      <td>2020-07-24</td>\n",
       "      <td>6fWVd57NKTalqvmjRd2t8Z</td>\n",
       "      <td>24kGoldn</td>\n",
       "      <td>24kGoldn;iann dior;</td>\n",
       "      <td>7.0</td>\n",
       "      <td>0.0</td>\n",
       "      <td>4.0</td>\n",
       "      <td>cali rap</td>\n",
       "      <td>cali rap;pop;pop rap;rap;</td>\n",
       "    </tr>\n",
       "    <tr>\n",
       "      <th>4</th>\n",
       "      <td>27OeeYzk6klgBh83TSvGMA</td>\n",
       "      <td>WITHOUT YOU</td>\n",
       "      <td>94</td>\n",
       "      <td>0.21300</td>\n",
       "      <td>0.662</td>\n",
       "      <td>161385.0</td>\n",
       "      <td>0.413</td>\n",
       "      <td>0.000000</td>\n",
       "      <td>0.1340</td>\n",
       "      <td>-7.357</td>\n",
       "      <td>...</td>\n",
       "      <td>0.0</td>\n",
       "      <td>2020-11-06</td>\n",
       "      <td>2tIP7SsRs7vjIcLrU85W8J</td>\n",
       "      <td>The Kid LAROI</td>\n",
       "      <td>The Kid LAROI;</td>\n",
       "      <td>0.0</td>\n",
       "      <td>1.0</td>\n",
       "      <td>4.0</td>\n",
       "      <td>australian hip hop</td>\n",
       "      <td>australian hip hop;pop;</td>\n",
       "    </tr>\n",
       "  </tbody>\n",
       "</table>\n",
       "<p>5 rows × 23 columns</p>\n",
       "</div>"
      ],
      "text/plain": [
       "                 track_id              track_name  popularity  acousticness  \\\n",
       "0  7lPN2DXiMsVn7XUKtOW1CS         drivers license         100       0.72100   \n",
       "1  5QO79kh1waicV47BqGRL3g         Save Your Tears          96       0.02120   \n",
       "2  0VjIjW4GlUZAMYd2vXMi3b         Blinding Lights          96       0.00146   \n",
       "3  3tjFYV6RSFtuktYl3ZtYcq  Mood (feat. iann dior)          95       0.22100   \n",
       "4  27OeeYzk6klgBh83TSvGMA             WITHOUT YOU          94       0.21300   \n",
       "\n",
       "   danceability  duration_ms  energy  instrumentalness  liveness  loudness  \\\n",
       "0         0.585     242014.0   0.436          0.000013    0.1050    -8.761   \n",
       "1         0.680     215627.0   0.826          0.000012    0.5430    -5.487   \n",
       "2         0.514     200040.0   0.730          0.000095    0.0897    -5.934   \n",
       "3         0.700     140526.0   0.722          0.000000    0.2720    -3.558   \n",
       "4         0.662     161385.0   0.413          0.000000    0.1340    -7.357   \n",
       "\n",
       "   ...  total_available_markets  release_date            topartist_id  \\\n",
       "0  ...                      1.0    2021-01-08  1McMsnEElThX1knmY4oliG   \n",
       "1  ...                    184.0    2020-03-20  1Xyo4u8uXC1ZmMpatF05PJ   \n",
       "2  ...                    184.0    2020-03-20  1Xyo4u8uXC1ZmMpatF05PJ   \n",
       "3  ...                      0.0    2020-07-24  6fWVd57NKTalqvmjRd2t8Z   \n",
       "4  ...                      0.0    2020-11-06  2tIP7SsRs7vjIcLrU85W8J   \n",
       "\n",
       "   topartist_name         artist_names   key mode time_signature  \\\n",
       "0  Olivia Rodrigo      Olivia Rodrigo;  10.0  1.0            4.0   \n",
       "1      The Weeknd          The Weeknd;   0.0  1.0            4.0   \n",
       "2      The Weeknd          The Weeknd;   1.0  1.0            4.0   \n",
       "3        24kGoldn  24kGoldn;iann dior;   7.0  0.0            4.0   \n",
       "4   The Kid LAROI       The Kid LAROI;   0.0  1.0            4.0   \n",
       "\n",
       "                artist_genre                            artist_genre_list  \n",
       "0                        pop                                         pop;  \n",
       "1  canadian contemporary r&b  canadian contemporary r&b;canadian pop;pop;  \n",
       "2  canadian contemporary r&b  canadian contemporary r&b;canadian pop;pop;  \n",
       "3                   cali rap                    cali rap;pop;pop rap;rap;  \n",
       "4         australian hip hop                      australian hip hop;pop;  \n",
       "\n",
       "[5 rows x 23 columns]"
      ]
     },
     "execution_count": 33,
     "metadata": {},
     "output_type": "execute_result"
    },
    {
     "data": {
      "text/plain": [
       "676681"
      ]
     },
     "execution_count": 33,
     "metadata": {},
     "output_type": "execute_result"
    }
   ],
   "source": [
    "# Extracting scraped data\n",
    "spotify_data = pd.read_csv('../spotify-datasets/final_spotify_data.csv', delimiter=',')\n",
    "spotify_data = spotify_data.drop(['Unnamed: 0'], axis=1)\n",
    "spotify_data.head()\n",
    "len(spotify_data['track_id'])"
   ]
  },
  {
   "cell_type": "code",
   "execution_count": 27,
   "metadata": {},
   "outputs": [
    {
     "data": {
      "text/plain": [
       "Index(['track_id', 'track_name', 'popularity', 'acousticness', 'danceability',\n",
       "       'duration_ms', 'energy', 'instrumentalness', 'liveness', 'loudness',\n",
       "       'speechiness', 'tempo', 'valence', 'total_available_markets',\n",
       "       'release_date', 'topartist_id', 'topartist_name', 'artist_names', 'key',\n",
       "       'mode', 'time_signature', 'artist_genre', 'artist_genre_list'],\n",
       "      dtype='object')"
      ]
     },
     "execution_count": 27,
     "metadata": {},
     "output_type": "execute_result"
    }
   ],
   "source": [
    "# feature names\n",
    "spotify_data.columns"
   ]
  },
  {
   "cell_type": "code",
   "execution_count": 20,
   "metadata": {},
   "outputs": [
    {
     "name": "stdout",
     "output_type": "stream",
     "text": [
      "Number of unique artists:  139300\n"
     ]
    },
    {
     "data": {
      "text/html": [
       "<div>\n",
       "<style scoped>\n",
       "    .dataframe tbody tr th:only-of-type {\n",
       "        vertical-align: middle;\n",
       "    }\n",
       "\n",
       "    .dataframe tbody tr th {\n",
       "        vertical-align: top;\n",
       "    }\n",
       "\n",
       "    .dataframe thead th {\n",
       "        text-align: right;\n",
       "    }\n",
       "</style>\n",
       "<table border=\"1\" class=\"dataframe\">\n",
       "  <thead>\n",
       "    <tr style=\"text-align: right;\">\n",
       "      <th></th>\n",
       "      <th>topartist_name</th>\n",
       "      <th>popularity</th>\n",
       "    </tr>\n",
       "  </thead>\n",
       "  <tbody>\n",
       "    <tr>\n",
       "      <th>15444</th>\n",
       "      <td>Boza</td>\n",
       "      <td>92.0</td>\n",
       "    </tr>\n",
       "    <tr>\n",
       "      <th>71734</th>\n",
       "      <td>Luar La L</td>\n",
       "      <td>91.0</td>\n",
       "    </tr>\n",
       "    <tr>\n",
       "      <th>12033</th>\n",
       "      <td>Beach Weather</td>\n",
       "      <td>90.0</td>\n",
       "    </tr>\n",
       "    <tr>\n",
       "      <th>46585</th>\n",
       "      <td>HVME</td>\n",
       "      <td>88.0</td>\n",
       "    </tr>\n",
       "    <tr>\n",
       "      <th>80290</th>\n",
       "      <td>Milly</td>\n",
       "      <td>88.0</td>\n",
       "    </tr>\n",
       "  </tbody>\n",
       "</table>\n",
       "</div>"
      ],
      "text/plain": [
       "      topartist_name  popularity\n",
       "15444           Boza        92.0\n",
       "71734      Luar La L        91.0\n",
       "12033  Beach Weather        90.0\n",
       "46585           HVME        88.0\n",
       "80290          Milly        88.0"
      ]
     },
     "execution_count": 20,
     "metadata": {},
     "output_type": "execute_result"
    },
    {
     "data": {
      "text/html": [
       "<div>\n",
       "<style scoped>\n",
       "    .dataframe tbody tr th:only-of-type {\n",
       "        vertical-align: middle;\n",
       "    }\n",
       "\n",
       "    .dataframe tbody tr th {\n",
       "        vertical-align: top;\n",
       "    }\n",
       "\n",
       "    .dataframe thead th {\n",
       "        text-align: right;\n",
       "    }\n",
       "</style>\n",
       "<table border=\"1\" class=\"dataframe\">\n",
       "  <thead>\n",
       "    <tr style=\"text-align: right;\">\n",
       "      <th></th>\n",
       "      <th>topartist_name</th>\n",
       "      <th>popularity</th>\n",
       "    </tr>\n",
       "  </thead>\n",
       "  <tbody>\n",
       "    <tr>\n",
       "      <th>80800</th>\n",
       "      <td>Mister Butta, Ayesha Sharma</td>\n",
       "      <td>0.0</td>\n",
       "    </tr>\n",
       "    <tr>\n",
       "      <th>80802</th>\n",
       "      <td>Mister Cyclops</td>\n",
       "      <td>0.0</td>\n",
       "    </tr>\n",
       "    <tr>\n",
       "      <th>80807</th>\n",
       "      <td>Mister Dizzy</td>\n",
       "      <td>0.0</td>\n",
       "    </tr>\n",
       "    <tr>\n",
       "      <th>80808</th>\n",
       "      <td>Mister Farra</td>\n",
       "      <td>0.0</td>\n",
       "    </tr>\n",
       "    <tr>\n",
       "      <th>139298</th>\n",
       "      <td>ｌｏｎｇ ｂｏｙ</td>\n",
       "      <td>0.0</td>\n",
       "    </tr>\n",
       "  </tbody>\n",
       "</table>\n",
       "</div>"
      ],
      "text/plain": [
       "                     topartist_name  popularity\n",
       "80800   Mister Butta, Ayesha Sharma         0.0\n",
       "80802                Mister Cyclops         0.0\n",
       "80807                  Mister Dizzy         0.0\n",
       "80808                  Mister Farra         0.0\n",
       "139298                     ｌｏｎｇ ｂｏｙ         0.0"
      ]
     },
     "execution_count": 20,
     "metadata": {},
     "output_type": "execute_result"
    }
   ],
   "source": [
    "# number of unique artists\n",
    "print(\"Number of unique artists: \", len(spotify_data['topartist_name'].unique()))\n",
    "\n",
    "# average popularity score of each artist\n",
    "avg_artist_popularity = spotify_data.groupby('topartist_name', as_index=False)['popularity'].mean()\n",
    "avg_artist_popularity = avg_artist_popularity.sort_values(by=['popularity'],ascending=False, na_position='last')\n",
    "# Top 5 Artists by popularity\n",
    "avg_artist_popularity.head()\n",
    "# Bottom 5 Artists by popularity\n",
    "avg_artist_popularity.tail()\n",
    "\n",
    "\n",
    "# number of hits per artist??"
   ]
  },
  {
   "cell_type": "code",
   "execution_count": 42,
   "metadata": {},
   "outputs": [
    {
     "data": {
      "text/html": [
       "<div>\n",
       "<style scoped>\n",
       "    .dataframe tbody tr th:only-of-type {\n",
       "        vertical-align: middle;\n",
       "    }\n",
       "\n",
       "    .dataframe tbody tr th {\n",
       "        vertical-align: top;\n",
       "    }\n",
       "\n",
       "    .dataframe thead th {\n",
       "        text-align: right;\n",
       "    }\n",
       "</style>\n",
       "<table border=\"1\" class=\"dataframe\">\n",
       "  <thead>\n",
       "    <tr style=\"text-align: right;\">\n",
       "      <th></th>\n",
       "      <th>topartist_name</th>\n",
       "      <th>total_available_markets</th>\n",
       "    </tr>\n",
       "  </thead>\n",
       "  <tbody>\n",
       "    <tr>\n",
       "      <th>139298</th>\n",
       "      <td>ｌｏｎｇ ｂｏｙ</td>\n",
       "      <td>185.0</td>\n",
       "    </tr>\n",
       "    <tr>\n",
       "      <th>101605</th>\n",
       "      <td>Rousseau</td>\n",
       "      <td>185.0</td>\n",
       "    </tr>\n",
       "    <tr>\n",
       "      <th>39044</th>\n",
       "      <td>Fg Kutthroat</td>\n",
       "      <td>185.0</td>\n",
       "    </tr>\n",
       "    <tr>\n",
       "      <th>39045</th>\n",
       "      <td>Fg's Romance</td>\n",
       "      <td>185.0</td>\n",
       "    </tr>\n",
       "    <tr>\n",
       "      <th>39047</th>\n",
       "      <td>Fgm Boe</td>\n",
       "      <td>185.0</td>\n",
       "    </tr>\n",
       "  </tbody>\n",
       "</table>\n",
       "</div>"
      ],
      "text/plain": [
       "       topartist_name  total_available_markets\n",
       "139298       ｌｏｎｇ ｂｏｙ                    185.0\n",
       "101605       Rousseau                    185.0\n",
       "39044    Fg Kutthroat                    185.0\n",
       "39045    Fg's Romance                    185.0\n",
       "39047         Fgm Boe                    185.0"
      ]
     },
     "execution_count": 42,
     "metadata": {},
     "output_type": "execute_result"
    },
    {
     "data": {
      "text/html": [
       "<div>\n",
       "<style scoped>\n",
       "    .dataframe tbody tr th:only-of-type {\n",
       "        vertical-align: middle;\n",
       "    }\n",
       "\n",
       "    .dataframe tbody tr th {\n",
       "        vertical-align: top;\n",
       "    }\n",
       "\n",
       "    .dataframe thead th {\n",
       "        text-align: right;\n",
       "    }\n",
       "</style>\n",
       "<table border=\"1\" class=\"dataframe\">\n",
       "  <thead>\n",
       "    <tr style=\"text-align: right;\">\n",
       "      <th></th>\n",
       "      <th>topartist_name</th>\n",
       "      <th>total_available_markets</th>\n",
       "    </tr>\n",
       "  </thead>\n",
       "  <tbody>\n",
       "    <tr>\n",
       "      <th>36221</th>\n",
       "      <td>Eric Hvell</td>\n",
       "      <td>0.0</td>\n",
       "    </tr>\n",
       "    <tr>\n",
       "      <th>104332</th>\n",
       "      <td>Sandal Weather</td>\n",
       "      <td>0.0</td>\n",
       "    </tr>\n",
       "    <tr>\n",
       "      <th>104327</th>\n",
       "      <td>Sancto Ianne</td>\n",
       "      <td>0.0</td>\n",
       "    </tr>\n",
       "    <tr>\n",
       "      <th>36229</th>\n",
       "      <td>Eric Lamb</td>\n",
       "      <td>0.0</td>\n",
       "    </tr>\n",
       "    <tr>\n",
       "      <th>0</th>\n",
       "      <td>!!!</td>\n",
       "      <td>0.0</td>\n",
       "    </tr>\n",
       "  </tbody>\n",
       "</table>\n",
       "</div>"
      ],
      "text/plain": [
       "        topartist_name  total_available_markets\n",
       "36221       Eric Hvell                      0.0\n",
       "104332  Sandal Weather                      0.0\n",
       "104327    Sancto Ianne                      0.0\n",
       "36229        Eric Lamb                      0.0\n",
       "0                  !!!                      0.0"
      ]
     },
     "execution_count": 42,
     "metadata": {},
     "output_type": "execute_result"
    },
    {
     "data": {
      "text/plain": [
       "(array([25851.,   800.,  1062.,  1329.,  1984.,  2561.,  2304.,  2459.,\n",
       "         2868., 98081.]),\n",
       " array([  0. ,  18.5,  37. ,  55.5,  74. ,  92.5, 111. , 129.5, 148. ,\n",
       "        166.5, 185. ]),\n",
       " <BarContainer object of 10 artists>)"
      ]
     },
     "execution_count": 42,
     "metadata": {},
     "output_type": "execute_result"
    },
    {
     "data": {
      "text/plain": [
       "Text(0.5, 0, 'Popularity Score')"
      ]
     },
     "execution_count": 42,
     "metadata": {},
     "output_type": "execute_result"
    },
    {
     "data": {
      "text/plain": [
       "Text(0, 0.5, 'Number of Artists')"
      ]
     },
     "execution_count": 42,
     "metadata": {},
     "output_type": "execute_result"
    },
    {
     "data": {
      "image/png": "[encoded data removed]",
      "text/plain": [
       "<Figure size 640x480 with 1 Axes>"
      ]
     },
     "metadata": {},
     "output_type": "display_data"
    }
   ],
   "source": [
    "# average market availability of each artist (global presence)\n",
    "avg_artist_market = spotify_data.groupby('topartist_name', as_index=False)['total_available_markets'].mean()\n",
    "avg_artist_market = avg_artist_market.sort_values(by=['total_available_markets'],ascending=False, na_position='last')\n",
    "# Top 5 Artists by market availabiity\n",
    "avg_artist_market.head()\n",
    "# Bottom 5 Artists by market availabiity\n",
    "avg_artist_market.tail()\n",
    "\n",
    "plt.hist(avg_artist_market['total_available_markets'], bins=10)\n",
    "plt.xlabel('Popularity Score')\n",
    "plt.ylabel('Number of Artists')"
   ]
  },
  {
   "cell_type": "code",
   "execution_count": 43,
   "metadata": {},
   "outputs": [
    {
     "name": "stdout",
     "output_type": "stream",
     "text": [
      "Number of unique genres:  5067\n"
     ]
    },
    {
     "data": {
      "text/html": [
       "<div>\n",
       "<style scoped>\n",
       "    .dataframe tbody tr th:only-of-type {\n",
       "        vertical-align: middle;\n",
       "    }\n",
       "\n",
       "    .dataframe tbody tr th {\n",
       "        vertical-align: top;\n",
       "    }\n",
       "\n",
       "    .dataframe thead th {\n",
       "        text-align: right;\n",
       "    }\n",
       "</style>\n",
       "<table border=\"1\" class=\"dataframe\">\n",
       "  <thead>\n",
       "    <tr style=\"text-align: right;\">\n",
       "      <th></th>\n",
       "      <th>artist_genre</th>\n",
       "      <th>popularity</th>\n",
       "    </tr>\n",
       "  </thead>\n",
       "  <tbody>\n",
       "    <tr>\n",
       "      <th>2367</th>\n",
       "      <td>indonesian lo-fi pop</td>\n",
       "      <td>72.5</td>\n",
       "    </tr>\n",
       "    <tr>\n",
       "      <th>322</th>\n",
       "      <td>bahamian pop</td>\n",
       "      <td>65.0</td>\n",
       "    </tr>\n",
       "    <tr>\n",
       "      <th>5023</th>\n",
       "      <td>worship</td>\n",
       "      <td>65.0</td>\n",
       "    </tr>\n",
       "    <tr>\n",
       "      <th>4314</th>\n",
       "      <td>sinhala indie</td>\n",
       "      <td>64.5</td>\n",
       "    </tr>\n",
       "    <tr>\n",
       "      <th>4607</th>\n",
       "      <td>taiwan indie</td>\n",
       "      <td>63.5</td>\n",
       "    </tr>\n",
       "  </tbody>\n",
       "</table>\n",
       "</div>"
      ],
      "text/plain": [
       "              artist_genre  popularity\n",
       "2367  indonesian lo-fi pop        72.5\n",
       "322           bahamian pop        65.0\n",
       "5023               worship        65.0\n",
       "4314         sinhala indie        64.5\n",
       "4607          taiwan indie        63.5"
      ]
     },
     "execution_count": 43,
     "metadata": {},
     "output_type": "execute_result"
    },
    {
     "data": {
      "text/html": [
       "<div>\n",
       "<style scoped>\n",
       "    .dataframe tbody tr th:only-of-type {\n",
       "        vertical-align: middle;\n",
       "    }\n",
       "\n",
       "    .dataframe tbody tr th {\n",
       "        vertical-align: top;\n",
       "    }\n",
       "\n",
       "    .dataframe thead th {\n",
       "        text-align: right;\n",
       "    }\n",
       "</style>\n",
       "<table border=\"1\" class=\"dataframe\">\n",
       "  <thead>\n",
       "    <tr style=\"text-align: right;\">\n",
       "      <th></th>\n",
       "      <th>artist_genre</th>\n",
       "      <th>popularity</th>\n",
       "    </tr>\n",
       "  </thead>\n",
       "  <tbody>\n",
       "    <tr>\n",
       "      <th>3399</th>\n",
       "      <td>new jersey punk</td>\n",
       "      <td>0.0</td>\n",
       "    </tr>\n",
       "    <tr>\n",
       "      <th>1524</th>\n",
       "      <td>dutch experimental</td>\n",
       "      <td>0.0</td>\n",
       "    </tr>\n",
       "    <tr>\n",
       "      <th>3395</th>\n",
       "      <td>new jack smooth</td>\n",
       "      <td>0.0</td>\n",
       "    </tr>\n",
       "    <tr>\n",
       "      <th>4352</th>\n",
       "      <td>slovenian indie</td>\n",
       "      <td>0.0</td>\n",
       "    </tr>\n",
       "    <tr>\n",
       "      <th>4544</th>\n",
       "      <td>swedish power metal</td>\n",
       "      <td>0.0</td>\n",
       "    </tr>\n",
       "  </tbody>\n",
       "</table>\n",
       "</div>"
      ],
      "text/plain": [
       "             artist_genre  popularity\n",
       "3399      new jersey punk         0.0\n",
       "1524   dutch experimental         0.0\n",
       "3395      new jack smooth         0.0\n",
       "4352      slovenian indie         0.0\n",
       "4544  swedish power metal         0.0"
      ]
     },
     "execution_count": 43,
     "metadata": {},
     "output_type": "execute_result"
    },
    {
     "data": {
      "text/plain": [
       "(array([6.480e+02, 8.150e+02, 1.021e+03, 9.840e+02, 8.220e+02, 4.870e+02,\n",
       "        2.160e+02, 5.600e+01, 1.600e+01, 1.000e+00]),\n",
       " array([ 0.  ,  7.25, 14.5 , 21.75, 29.  , 36.25, 43.5 , 50.75, 58.  ,\n",
       "        65.25, 72.5 ]),\n",
       " <BarContainer object of 10 artists>)"
      ]
     },
     "execution_count": 43,
     "metadata": {},
     "output_type": "execute_result"
    },
    {
     "data": {
      "text/plain": [
       "Text(0.5, 0, 'Popularity Score')"
      ]
     },
     "execution_count": 43,
     "metadata": {},
     "output_type": "execute_result"
    },
    {
     "data": {
      "text/plain": [
       "Text(0, 0.5, 'Number of Genres')"
      ]
     },
     "execution_count": 43,
     "metadata": {},
     "output_type": "execute_result"
    },
    {
     "data": {
      "image/png": "[encoded data removed]",
      "text/plain": [
       "<Figure size 640x480 with 1 Axes>"
      ]
     },
     "metadata": {},
     "output_type": "display_data"
    }
   ],
   "source": [
    "# number of genres\n",
    "print(\"Number of unique genres: \", len(spotify_data['artist_genre'].unique()))\n",
    "\n",
    "# average popularity of each genre (maybe according to release date as well?)\n",
    "avg_genre_popularity = spotify_data.groupby('artist_genre', as_index=False)['popularity'].mean()\n",
    "avg_genre_popularity = avg_genre_popularity.sort_values(by=['popularity'],ascending=False, na_position='last')\n",
    "# Top 5 Genres \n",
    "avg_genre_popularity.head()\n",
    "# Bottom 5 Genres \n",
    "avg_genre_popularity.tail()\n",
    "\n",
    "plt.hist(avg_genre_popularity['popularity'], bins=10)\n",
    "plt.xlabel('Popularity Score')\n",
    "plt.ylabel('Number of Genres')"
   ]
  },
  {
   "cell_type": "code",
   "execution_count": 46,
   "metadata": {},
   "outputs": [
    {
     "data": {
      "text/plain": [
       "Johann Sebastian Bach      2002\n",
       "Wolfgang Amadeus Mozart    1716\n",
       "Die drei ???               1464\n",
       "Giuseppe Verdi             1459\n",
       "Ludwig van Beethoven       1327\n",
       "Name: topartist_name, dtype: int64"
      ]
     },
     "execution_count": 46,
     "metadata": {},
     "output_type": "execute_result"
    },
    {
     "data": {
      "text/plain": [
       "Lil Beep                    1\n",
       "M VZN                       1\n",
       "Ice IX                      1\n",
       "Tre Da Kid                  1\n",
       "Jr Thomas & The Volcanos    1\n",
       "Name: topartist_name, dtype: int64"
      ]
     },
     "execution_count": 46,
     "metadata": {},
     "output_type": "execute_result"
    }
   ],
   "source": [
    "# number of releases per artist\n",
    "num_releases_per_artist = spotify_data['topartist_name'].value_counts()\n",
    "num_releases_per_artist.head()\n",
    "num_releases_per_artist.tail()"
   ]
  },
  {
   "cell_type": "code",
   "execution_count": 35,
   "metadata": {},
   "outputs": [
    {
     "data": {
      "text/plain": [
       "0    143.874\n",
       "1    118.051\n",
       "2    171.005\n",
       "3     90.989\n",
       "4     93.005\n",
       "Name: tempo, dtype: float64"
      ]
     },
     "execution_count": 35,
     "metadata": {},
     "output_type": "execute_result"
    }
   ],
   "source": [
    "spotify_data['tempo'].head()"
   ]
  },
  {
   "cell_type": "code",
   "execution_count": 32,
   "metadata": {},
   "outputs": [
    {
     "name": "stdout",
     "output_type": "stream",
     "text": [
      "Average values of continuous numeric data:\n"
     ]
    },
    {
     "data": {
      "text/plain": [
       "acousticness          0.352293\n",
       "danceability          0.591749\n",
       "energy                0.582816\n",
       "instrumentalness      0.184506\n",
       "liveness              0.214905\n",
       "loudness             -9.876315\n",
       "speechiness           0.165155\n",
       "tempo               119.047956\n",
       "valence               0.469378\n",
       "dtype: float64"
      ]
     },
     "execution_count": 32,
     "metadata": {},
     "output_type": "execute_result"
    }
   ],
   "source": [
    "# Mean value of features containing continuous data\n",
    "continuous_variables = ['acousticness', 'danceability', 'energy', 'instrumentalness', 'liveness', 'loudness','speechiness', 'tempo', 'valence']\n",
    "\n",
    "print(\"Average values of continuous numeric data:\")\n",
    "spotify_data[continuous_variables].mean(axis=0)"
   ]
  },
  {
   "cell_type": "code",
   "execution_count": 36,
   "metadata": {},
   "outputs": [
    {
     "data": {
      "text/plain": [
       "Text(0.5, 0.98, 'Density Plots for Continuous Variables')"
      ]
     },
     "execution_count": 36,
     "metadata": {},
     "output_type": "execute_result"
    },
    {
     "data": {
      "text/plain": [
       "<AxesSubplot: >"
      ]
     },
     "execution_count": 36,
     "metadata": {},
     "output_type": "execute_result"
    },
    {
     "data": {
      "text/plain": [
       "<AxesSubplot: ylabel='Density'>"
      ]
     },
     "execution_count": 36,
     "metadata": {},
     "output_type": "execute_result"
    },
    {
     "data": {
      "text/plain": [
       "Text(0.5, 1.0, 'acousticness')"
      ]
     },
     "execution_count": 36,
     "metadata": {},
     "output_type": "execute_result"
    },
    {
     "data": {
      "text/plain": [
       "<AxesSubplot: >"
      ]
     },
     "execution_count": 36,
     "metadata": {},
     "output_type": "execute_result"
    },
    {
     "data": {
      "text/plain": [
       "<AxesSubplot: ylabel='Density'>"
      ]
     },
     "execution_count": 36,
     "metadata": {},
     "output_type": "execute_result"
    },
    {
     "data": {
      "text/plain": [
       "Text(0.5, 1.0, 'danceability')"
      ]
     },
     "execution_count": 36,
     "metadata": {},
     "output_type": "execute_result"
    },
    {
     "data": {
      "text/plain": [
       "<AxesSubplot: >"
      ]
     },
     "execution_count": 36,
     "metadata": {},
     "output_type": "execute_result"
    },
    {
     "data": {
      "text/plain": [
       "<AxesSubplot: ylabel='Density'>"
      ]
     },
     "execution_count": 36,
     "metadata": {},
     "output_type": "execute_result"
    },
    {
     "data": {
      "text/plain": [
       "Text(0.5, 1.0, 'energy')"
      ]
     },
     "execution_count": 36,
     "metadata": {},
     "output_type": "execute_result"
    },
    {
     "data": {
      "text/plain": [
       "<AxesSubplot: >"
      ]
     },
     "execution_count": 36,
     "metadata": {},
     "output_type": "execute_result"
    },
    {
     "data": {
      "text/plain": [
       "<AxesSubplot: ylabel='Density'>"
      ]
     },
     "execution_count": 36,
     "metadata": {},
     "output_type": "execute_result"
    },
    {
     "data": {
      "text/plain": [
       "Text(0.5, 1.0, 'instrumentalness')"
      ]
     },
     "execution_count": 36,
     "metadata": {},
     "output_type": "execute_result"
    },
    {
     "data": {
      "text/plain": [
       "<AxesSubplot: >"
      ]
     },
     "execution_count": 36,
     "metadata": {},
     "output_type": "execute_result"
    },
    {
     "data": {
      "text/plain": [
       "<AxesSubplot: ylabel='Density'>"
      ]
     },
     "execution_count": 36,
     "metadata": {},
     "output_type": "execute_result"
    },
    {
     "data": {
      "text/plain": [
       "Text(0.5, 1.0, 'liveness')"
      ]
     },
     "execution_count": 36,
     "metadata": {},
     "output_type": "execute_result"
    },
    {
     "data": {
      "text/plain": [
       "<AxesSubplot: >"
      ]
     },
     "execution_count": 36,
     "metadata": {},
     "output_type": "execute_result"
    },
    {
     "data": {
      "text/plain": [
       "<AxesSubplot: ylabel='Density'>"
      ]
     },
     "execution_count": 36,
     "metadata": {},
     "output_type": "execute_result"
    },
    {
     "data": {
      "text/plain": [
       "Text(0.5, 1.0, 'loudness')"
      ]
     },
     "execution_count": 36,
     "metadata": {},
     "output_type": "execute_result"
    },
    {
     "data": {
      "text/plain": [
       "<AxesSubplot: >"
      ]
     },
     "execution_count": 36,
     "metadata": {},
     "output_type": "execute_result"
    },
    {
     "data": {
      "text/plain": [
       "<AxesSubplot: ylabel='Density'>"
      ]
     },
     "execution_count": 36,
     "metadata": {},
     "output_type": "execute_result"
    },
    {
     "data": {
      "text/plain": [
       "Text(0.5, 1.0, 'speechiness')"
      ]
     },
     "execution_count": 36,
     "metadata": {},
     "output_type": "execute_result"
    },
    {
     "data": {
      "text/plain": [
       "<AxesSubplot: >"
      ]
     },
     "execution_count": 36,
     "metadata": {},
     "output_type": "execute_result"
    },
    {
     "data": {
      "text/plain": [
       "<AxesSubplot: ylabel='Density'>"
      ]
     },
     "execution_count": 36,
     "metadata": {},
     "output_type": "execute_result"
    },
    {
     "data": {
      "text/plain": [
       "Text(0.5, 1.0, 'tempo')"
      ]
     },
     "execution_count": 36,
     "metadata": {},
     "output_type": "execute_result"
    },
    {
     "data": {
      "text/plain": [
       "<AxesSubplot: >"
      ]
     },
     "execution_count": 36,
     "metadata": {},
     "output_type": "execute_result"
    },
    {
     "data": {
      "text/plain": [
       "<AxesSubplot: ylabel='Density'>"
      ]
     },
     "execution_count": 36,
     "metadata": {},
     "output_type": "execute_result"
    },
    {
     "data": {
      "text/plain": [
       "Text(0.5, 1.0, 'valence')"
      ]
     },
     "execution_count": 36,
     "metadata": {},
     "output_type": "execute_result"
    },
    {
     "data": {
      "image/png": "[encoded data removed]",
      "text/plain": [
       "<Figure size 640x480 with 9 Axes>"
      ]
     },
     "metadata": {},
     "output_type": "display_data"
    }
   ],
   "source": [
    "plt.suptitle('Density Plots for Continuous Variables')\n",
    "\n",
    "for i,cont_feat in enumerate(continuous_variables):\n",
    "    plt.tight_layout()\n",
    "    plt.subplot(3, 3, i+1)\n",
    "    spotify_data[cont_feat].plot(kind='density')\n",
    "    plt.title(cont_feat,fontsize=8)"
   ]
  },
  {
   "cell_type": "code",
   "execution_count": 38,
   "metadata": {},
   "outputs": [
    {
     "data": {
      "text/plain": [
       "<Figure size 1000x1000 with 0 Axes>"
      ]
     },
     "execution_count": 38,
     "metadata": {},
     "output_type": "execute_result"
    },
    {
     "data": {
      "text/plain": [
       "Text(0.5, 0.98, 'Box Plots for Continuous Variables')"
      ]
     },
     "execution_count": 38,
     "metadata": {},
     "output_type": "execute_result"
    },
    {
     "data": {
      "text/plain": [
       "<AxesSubplot: >"
      ]
     },
     "execution_count": 38,
     "metadata": {},
     "output_type": "execute_result"
    },
    {
     "data": {
      "text/plain": [
       "{'whiskers': [<matplotlib.lines.Line2D at 0x15720ea60>,\n",
       "  <matplotlib.lines.Line2D at 0x15720ed00>],\n",
       " 'caps': [<matplotlib.lines.Line2D at 0x15720efa0>,\n",
       "  <matplotlib.lines.Line2D at 0x1571ec820>],\n",
       " 'boxes': [<matplotlib.lines.Line2D at 0x15720e7c0>],\n",
       " 'medians': [<matplotlib.lines.Line2D at 0x157145520>],\n",
       " 'fliers': [<matplotlib.lines.Line2D at 0x15721d340>],\n",
       " 'means': []}"
      ]
     },
     "execution_count": 38,
     "metadata": {},
     "output_type": "execute_result"
    },
    {
     "data": {
      "text/plain": [
       "Text(0.5, 1.0, 'acousticness')"
      ]
     },
     "execution_count": 38,
     "metadata": {},
     "output_type": "execute_result"
    },
    {
     "data": {
      "text/plain": [
       "<AxesSubplot: >"
      ]
     },
     "execution_count": 38,
     "metadata": {},
     "output_type": "execute_result"
    },
    {
     "data": {
      "text/plain": [
       "{'whiskers': [<matplotlib.lines.Line2D at 0x157269b80>,\n",
       "  <matplotlib.lines.Line2D at 0x157269e20>],\n",
       " 'caps': [<matplotlib.lines.Line2D at 0x15727b100>,\n",
       "  <matplotlib.lines.Line2D at 0x15727b3a0>],\n",
       " 'boxes': [<matplotlib.lines.Line2D at 0x1572698e0>],\n",
       " 'medians': [<matplotlib.lines.Line2D at 0x15727b640>],\n",
       " 'fliers': [<matplotlib.lines.Line2D at 0x15727b8e0>],\n",
       " 'means': []}"
      ]
     },
     "execution_count": 38,
     "metadata": {},
     "output_type": "execute_result"
    },
    {
     "data": {
      "text/plain": [
       "Text(0.5, 1.0, 'danceability')"
      ]
     },
     "execution_count": 38,
     "metadata": {},
     "output_type": "execute_result"
    },
    {
     "data": {
      "text/plain": [
       "<AxesSubplot: >"
      ]
     },
     "execution_count": 38,
     "metadata": {},
     "output_type": "execute_result"
    },
    {
     "data": {
      "text/plain": [
       "{'whiskers': [<matplotlib.lines.Line2D at 0x1572c7cd0>,\n",
       "  <matplotlib.lines.Line2D at 0x1572c7f70>],\n",
       " 'caps': [<matplotlib.lines.Line2D at 0x1572da250>,\n",
       "  <matplotlib.lines.Line2D at 0x1572da4f0>],\n",
       " 'boxes': [<matplotlib.lines.Line2D at 0x1572c7a30>],\n",
       " 'medians': [<matplotlib.lines.Line2D at 0x1572da790>],\n",
       " 'fliers': [<matplotlib.lines.Line2D at 0x1572daa30>],\n",
       " 'means': []}"
      ]
     },
     "execution_count": 38,
     "metadata": {},
     "output_type": "execute_result"
    },
    {
     "data": {
      "text/plain": [
       "Text(0.5, 1.0, 'energy')"
      ]
     },
     "execution_count": 38,
     "metadata": {},
     "output_type": "execute_result"
    },
    {
     "data": {
      "text/plain": [
       "<AxesSubplot: >"
      ]
     },
     "execution_count": 38,
     "metadata": {},
     "output_type": "execute_result"
    },
    {
     "data": {
      "text/plain": [
       "{'whiskers': [<matplotlib.lines.Line2D at 0x157328d00>,\n",
       "  <matplotlib.lines.Line2D at 0x157328fa0>],\n",
       " 'caps': [<matplotlib.lines.Line2D at 0x15733b280>,\n",
       "  <matplotlib.lines.Line2D at 0x15733b520>],\n",
       " 'boxes': [<matplotlib.lines.Line2D at 0x157328a60>],\n",
       " 'medians': [<matplotlib.lines.Line2D at 0x15733b7c0>],\n",
       " 'fliers': [<matplotlib.lines.Line2D at 0x15733ba60>],\n",
       " 'means': []}"
      ]
     },
     "execution_count": 38,
     "metadata": {},
     "output_type": "execute_result"
    },
    {
     "data": {
      "text/plain": [
       "Text(0.5, 1.0, 'instrumentalness')"
      ]
     },
     "execution_count": 38,
     "metadata": {},
     "output_type": "execute_result"
    },
    {
     "data": {
      "text/plain": [
       "<AxesSubplot: >"
      ]
     },
     "execution_count": 38,
     "metadata": {},
     "output_type": "execute_result"
    },
    {
     "data": {
      "text/plain": [
       "{'whiskers': [<matplotlib.lines.Line2D at 0x157388f70>,\n",
       "  <matplotlib.lines.Line2D at 0x15739a250>],\n",
       " 'caps': [<matplotlib.lines.Line2D at 0x15739a4f0>,\n",
       "  <matplotlib.lines.Line2D at 0x15739a790>],\n",
       " 'boxes': [<matplotlib.lines.Line2D at 0x157388cd0>],\n",
       " 'medians': [<matplotlib.lines.Line2D at 0x15739aa30>],\n",
       " 'fliers': [<matplotlib.lines.Line2D at 0x15739acd0>],\n",
       " 'means': []}"
      ]
     },
     "execution_count": 38,
     "metadata": {},
     "output_type": "execute_result"
    },
    {
     "data": {
      "text/plain": [
       "Text(0.5, 1.0, 'liveness')"
      ]
     },
     "execution_count": 38,
     "metadata": {},
     "output_type": "execute_result"
    },
    {
     "data": {
      "text/plain": [
       "<AxesSubplot: >"
      ]
     },
     "execution_count": 38,
     "metadata": {},
     "output_type": "execute_result"
    },
    {
     "data": {
      "text/plain": [
       "{'whiskers': [<matplotlib.lines.Line2D at 0x1573e9fa0>,\n",
       "  <matplotlib.lines.Line2D at 0x1573fa2b0>],\n",
       " 'caps': [<matplotlib.lines.Line2D at 0x1573fa550>,\n",
       "  <matplotlib.lines.Line2D at 0x1573fa7f0>],\n",
       " 'boxes': [<matplotlib.lines.Line2D at 0x1573e9d00>],\n",
       " 'medians': [<matplotlib.lines.Line2D at 0x1573faa90>],\n",
       " 'fliers': [<matplotlib.lines.Line2D at 0x1573fad30>],\n",
       " 'means': []}"
      ]
     },
     "execution_count": 38,
     "metadata": {},
     "output_type": "execute_result"
    },
    {
     "data": {
      "text/plain": [
       "Text(0.5, 1.0, 'loudness')"
      ]
     },
     "execution_count": 38,
     "metadata": {},
     "output_type": "execute_result"
    },
    {
     "data": {
      "text/plain": [
       "<AxesSubplot: >"
      ]
     },
     "execution_count": 38,
     "metadata": {},
     "output_type": "execute_result"
    },
    {
     "data": {
      "text/plain": [
       "{'whiskers': [<matplotlib.lines.Line2D at 0x17813be20>,\n",
       "  <matplotlib.lines.Line2D at 0x17814e100>],\n",
       " 'caps': [<matplotlib.lines.Line2D at 0x17814e3a0>,\n",
       "  <matplotlib.lines.Line2D at 0x17814e640>],\n",
       " 'boxes': [<matplotlib.lines.Line2D at 0x17813bb80>],\n",
       " 'medians': [<matplotlib.lines.Line2D at 0x17814e8e0>],\n",
       " 'fliers': [<matplotlib.lines.Line2D at 0x17814eb80>],\n",
       " 'means': []}"
      ]
     },
     "execution_count": 38,
     "metadata": {},
     "output_type": "execute_result"
    },
    {
     "data": {
      "text/plain": [
       "Text(0.5, 1.0, 'speechiness')"
      ]
     },
     "execution_count": 38,
     "metadata": {},
     "output_type": "execute_result"
    },
    {
     "data": {
      "text/plain": [
       "<AxesSubplot: >"
      ]
     },
     "execution_count": 38,
     "metadata": {},
     "output_type": "execute_result"
    },
    {
     "data": {
      "text/plain": [
       "{'whiskers': [<matplotlib.lines.Line2D at 0x1781ac2b0>,\n",
       "  <matplotlib.lines.Line2D at 0x1781ac550>],\n",
       " 'caps': [<matplotlib.lines.Line2D at 0x1781ac7f0>,\n",
       "  <matplotlib.lines.Line2D at 0x1781aca90>],\n",
       " 'boxes': [<matplotlib.lines.Line2D at 0x17819afd0>],\n",
       " 'medians': [<matplotlib.lines.Line2D at 0x1781acd30>],\n",
       " 'fliers': [<matplotlib.lines.Line2D at 0x1781acfd0>],\n",
       " 'means': []}"
      ]
     },
     "execution_count": 38,
     "metadata": {},
     "output_type": "execute_result"
    },
    {
     "data": {
      "text/plain": [
       "Text(0.5, 1.0, 'tempo')"
      ]
     },
     "execution_count": 38,
     "metadata": {},
     "output_type": "execute_result"
    },
    {
     "data": {
      "text/plain": [
       "<AxesSubplot: >"
      ]
     },
     "execution_count": 38,
     "metadata": {},
     "output_type": "execute_result"
    },
    {
     "data": {
      "text/plain": [
       "{'whiskers': [<matplotlib.lines.Line2D at 0x1781faf70>,\n",
       "  <matplotlib.lines.Line2D at 0x17820e250>],\n",
       " 'caps': [<matplotlib.lines.Line2D at 0x17820e4f0>,\n",
       "  <matplotlib.lines.Line2D at 0x17820e790>],\n",
       " 'boxes': [<matplotlib.lines.Line2D at 0x1781facd0>],\n",
       " 'medians': [<matplotlib.lines.Line2D at 0x17820ea30>],\n",
       " 'fliers': [<matplotlib.lines.Line2D at 0x17820ecd0>],\n",
       " 'means': []}"
      ]
     },
     "execution_count": 38,
     "metadata": {},
     "output_type": "execute_result"
    },
    {
     "data": {
      "text/plain": [
       "Text(0.5, 1.0, 'valence')"
      ]
     },
     "execution_count": 38,
     "metadata": {},
     "output_type": "execute_result"
    },
    {
     "data": {
      "image/png": "[encoded data removed]",
      "text/plain": [
       "<Figure size 1000x1000 with 9 Axes>"
      ]
     },
     "metadata": {},
     "output_type": "display_data"
    }
   ],
   "source": [
    "plt.figure(figsize=(10, 10))\n",
    "plt.suptitle('Box Plots for Continuous Variables')\n",
    "\n",
    "for i,cont_feat in enumerate(continuous_variables):\n",
    "    plt.tight_layout()\n",
    "    plt.subplot(3, 3, i+1)\n",
    "    plt.boxplot(spotify_data[cont_feat])\n",
    "    plt.title(cont_feat,fontsize=8)"
   ]
  },
  {
   "cell_type": "code",
   "execution_count": 39,
   "metadata": {},
   "outputs": [
    {
     "data": {
      "text/plain": [
       "Index(['popularity', 'acousticness', 'danceability', 'duration_ms', 'energy',\n",
       "       'instrumentalness', 'liveness', 'loudness', 'speechiness', 'tempo',\n",
       "       'valence', 'total_available_markets', 'key', 'mode', 'time_signature'],\n",
       "      dtype='object')"
      ]
     },
     "execution_count": 39,
     "metadata": {},
     "output_type": "execute_result"
    },
    {
     "data": {
      "text/plain": [
       "Index(['track_id', 'track_name', 'release_date', 'topartist_id',\n",
       "       'topartist_name', 'artist_names', 'artist_genre', 'artist_genre_list'],\n",
       "      dtype='object')"
      ]
     },
     "execution_count": 39,
     "metadata": {},
     "output_type": "execute_result"
    }
   ],
   "source": [
    "num_spotify_data = spotify_data.select_dtypes(include=np.number)\n",
    "num_spotify_data.columns\n",
    "\n",
    "cat_spotify_data = spotify_data.select_dtypes(include=['object'])\n",
    "cat_spotify_data.columns"
   ]
  },
  {
   "cell_type": "code",
   "execution_count": null,
   "metadata": {},
   "outputs": [],
   "source": []
  },
  {
   "cell_type": "code",
   "execution_count": 31,
   "metadata": {},
   "outputs": [
    {
     "data": {
      "image/png": "[encoded data removed]",
      "text/plain": [
       "<Figure size 640x480 with 3 Axes>"
      ]
     },
     "metadata": {},
     "output_type": "display_data"
    }
   ],
   "source": [
    "# Histogram Analysis\n",
    "histogram_features = ['popularity','total_available_markets','time_signature',]\n",
    "\n",
    "num = 0\n",
    "for hist_feat in histogram_features:\n",
    "    num+=1\n",
    "    plt.suptitle('Histogram Visualization')\n",
    "    plt.tight_layout()\n",
    "    plt.subplot(2,2, num)\n",
    "    plt.hist(spotify_data[hist_feat], bins=10)\n",
    "    plt.title(hist_feat,fontsize=8)"
   ]
  }
 ],
 "metadata": {
  "kernelspec": {
   "display_name": "Python 3",
   "language": "python",
   "name": "python3"
  },
  "language_info": {
   "codemirror_mode": {
    "name": "ipython",
    "version": 3
   },
   "file_extension": ".py",
   "mimetype": "text/x-python",
   "name": "python",
   "nbconvert_exporter": "python",
   "pygments_lexer": "ipython3",
   "version": "3.9.6"
  },
  "orig_nbformat": 4
 },
 "nbformat": 4,
 "nbformat_minor": 2
}
