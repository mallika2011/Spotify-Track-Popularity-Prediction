{
 "cells": [
  {
   "cell_type": "code",
   "execution_count": 1,
   "id": "49a4237d",
   "metadata": {},
   "outputs": [],
   "source": [
    "import pandas as pd\n",
    "import numpy as np\n",
    "import datetime\n",
    "from category_encoders import TargetEncoder\n",
    "from sklearn.impute import KNNImputer\n",
    "from sklearn.model_selection import train_test_split\n",
    "import matplotlib.pyplot as plt"
   ]
  },
  {
   "cell_type": "markdown",
   "id": "2aeafe6e",
   "metadata": {},
   "source": [
    "### Load Data"
   ]
  },
  {
   "cell_type": "code",
   "execution_count": 2,
   "id": "fb9dcfab",
   "metadata": {},
   "outputs": [
    {
     "data": {
      "text/plain": [
       "(676345, 18)"
      ]
     },
     "execution_count": 2,
     "metadata": {},
     "output_type": "execute_result"
    }
   ],
   "source": [
    "df = pd.read_csv('../spotify-datasets/final_spotify_data_cleaned.csv')\n",
    "df.shape"
   ]
  },
  {
   "cell_type": "code",
   "execution_count": 3,
   "id": "f39906b0",
   "metadata": {},
   "outputs": [
    {
     "data": {
      "text/plain": [
       "popularity                      0\n",
       "acousticness                    0\n",
       "danceability                    0\n",
       "duration_ms                     0\n",
       "energy                          0\n",
       "instrumentalness                0\n",
       "liveness                        0\n",
       "loudness                        0\n",
       "speechiness                     0\n",
       "tempo                           0\n",
       "valence                         0\n",
       "total_available_markets         0\n",
       "release_date                    0\n",
       "topartist_id                    0\n",
       "key                             0\n",
       "mode                            0\n",
       "time_signature                  0\n",
       "artist_genre               164869\n",
       "dtype: int64"
      ]
     },
     "execution_count": 3,
     "metadata": {},
     "output_type": "execute_result"
    }
   ],
   "source": [
    "df.isnull().sum()"
   ]
  },
  {
   "cell_type": "markdown",
   "id": "77eed378",
   "metadata": {},
   "source": [
    "### Splitting Data"
   ]
  },
  {
   "cell_type": "code",
   "execution_count": 4,
   "id": "97a4cc0b",
   "metadata": {},
   "outputs": [],
   "source": [
    "X = df.drop('popularity', axis=1)\n",
    "y = df['popularity']\n",
    "X_train, X_test, y_train, y_test = train_test_split(X, y, test_size=0.2)\n",
    "X_train, X_dev, y_train, y_dev = train_test_split(X_train, y_train, test_size=0.25)"
   ]
  },
  {
   "cell_type": "markdown",
   "id": "47cb895d",
   "metadata": {},
   "source": [
    "### Target Encoding"
   ]
  },
  {
   "cell_type": "code",
   "execution_count": 5,
   "id": "a348f692",
   "metadata": {},
   "outputs": [],
   "source": [
    "features_te = ['topartist_id', 'artist_genre']"
   ]
  },
  {
   "cell_type": "code",
   "execution_count": 6,
   "id": "7a720750",
   "metadata": {},
   "outputs": [
    {
     "data": {
      "text/html": [
       "<div>\n",
       "<style scoped>\n",
       "    .dataframe tbody tr th:only-of-type {\n",
       "        vertical-align: middle;\n",
       "    }\n",
       "\n",
       "    .dataframe tbody tr th {\n",
       "        vertical-align: top;\n",
       "    }\n",
       "\n",
       "    .dataframe thead th {\n",
       "        text-align: right;\n",
       "    }\n",
       "</style>\n",
       "<table border=\"1\" class=\"dataframe\">\n",
       "  <thead>\n",
       "    <tr style=\"text-align: right;\">\n",
       "      <th></th>\n",
       "      <th>acousticness</th>\n",
       "      <th>danceability</th>\n",
       "      <th>duration_ms</th>\n",
       "      <th>energy</th>\n",
       "      <th>instrumentalness</th>\n",
       "      <th>liveness</th>\n",
       "      <th>loudness</th>\n",
       "      <th>speechiness</th>\n",
       "      <th>tempo</th>\n",
       "      <th>valence</th>\n",
       "      <th>total_available_markets</th>\n",
       "      <th>release_date</th>\n",
       "      <th>topartist_id</th>\n",
       "      <th>key</th>\n",
       "      <th>mode</th>\n",
       "      <th>time_signature</th>\n",
       "      <th>artist_genre</th>\n",
       "    </tr>\n",
       "  </thead>\n",
       "  <tbody>\n",
       "    <tr>\n",
       "      <th>93445</th>\n",
       "      <td>0.00298</td>\n",
       "      <td>0.478</td>\n",
       "      <td>222840.0</td>\n",
       "      <td>0.963</td>\n",
       "      <td>0.00000</td>\n",
       "      <td>0.165</td>\n",
       "      <td>-3.299</td>\n",
       "      <td>0.0643</td>\n",
       "      <td>164.641</td>\n",
       "      <td>0.89900</td>\n",
       "      <td>98.0</td>\n",
       "      <td>6208.0</td>\n",
       "      <td>31.259850</td>\n",
       "      <td>11.0</td>\n",
       "      <td>1.0</td>\n",
       "      <td>4.0</td>\n",
       "      <td>29.704464</td>\n",
       "    </tr>\n",
       "    <tr>\n",
       "      <th>431267</th>\n",
       "      <td>0.12200</td>\n",
       "      <td>0.696</td>\n",
       "      <td>152198.0</td>\n",
       "      <td>0.372</td>\n",
       "      <td>0.00000</td>\n",
       "      <td>0.172</td>\n",
       "      <td>-10.236</td>\n",
       "      <td>0.9560</td>\n",
       "      <td>77.558</td>\n",
       "      <td>0.41300</td>\n",
       "      <td>0.0</td>\n",
       "      <td>673.0</td>\n",
       "      <td>0.029091</td>\n",
       "      <td>1.0</td>\n",
       "      <td>1.0</td>\n",
       "      <td>4.0</td>\n",
       "      <td>NaN</td>\n",
       "    </tr>\n",
       "    <tr>\n",
       "      <th>514919</th>\n",
       "      <td>0.89700</td>\n",
       "      <td>0.341</td>\n",
       "      <td>180506.0</td>\n",
       "      <td>0.212</td>\n",
       "      <td>0.00124</td>\n",
       "      <td>0.147</td>\n",
       "      <td>-12.131</td>\n",
       "      <td>0.0312</td>\n",
       "      <td>171.267</td>\n",
       "      <td>0.26800</td>\n",
       "      <td>181.0</td>\n",
       "      <td>2962.0</td>\n",
       "      <td>26.211667</td>\n",
       "      <td>7.0</td>\n",
       "      <td>1.0</td>\n",
       "      <td>4.0</td>\n",
       "      <td>30.705394</td>\n",
       "    </tr>\n",
       "    <tr>\n",
       "      <th>36543</th>\n",
       "      <td>0.30900</td>\n",
       "      <td>0.183</td>\n",
       "      <td>144639.0</td>\n",
       "      <td>0.930</td>\n",
       "      <td>0.88600</td>\n",
       "      <td>0.236</td>\n",
       "      <td>-13.634</td>\n",
       "      <td>0.0498</td>\n",
       "      <td>73.562</td>\n",
       "      <td>0.00001</td>\n",
       "      <td>184.0</td>\n",
       "      <td>2054.0</td>\n",
       "      <td>30.431532</td>\n",
       "      <td>1.0</td>\n",
       "      <td>1.0</td>\n",
       "      <td>1.0</td>\n",
       "      <td>27.816000</td>\n",
       "    </tr>\n",
       "    <tr>\n",
       "      <th>637427</th>\n",
       "      <td>0.47600</td>\n",
       "      <td>0.584</td>\n",
       "      <td>256720.0</td>\n",
       "      <td>0.498</td>\n",
       "      <td>0.09890</td>\n",
       "      <td>0.121</td>\n",
       "      <td>-8.160</td>\n",
       "      <td>0.0397</td>\n",
       "      <td>81.979</td>\n",
       "      <td>0.25700</td>\n",
       "      <td>0.0</td>\n",
       "      <td>3133.0</td>\n",
       "      <td>27.407863</td>\n",
       "      <td>6.0</td>\n",
       "      <td>0.0</td>\n",
       "      <td>4.0</td>\n",
       "      <td>35.419975</td>\n",
       "    </tr>\n",
       "  </tbody>\n",
       "</table>\n",
       "</div>"
      ],
      "text/plain": [
       "        acousticness  danceability  duration_ms  energy  instrumentalness  \\\n",
       "93445        0.00298         0.478     222840.0   0.963           0.00000   \n",
       "431267       0.12200         0.696     152198.0   0.372           0.00000   \n",
       "514919       0.89700         0.341     180506.0   0.212           0.00124   \n",
       "36543        0.30900         0.183     144639.0   0.930           0.88600   \n",
       "637427       0.47600         0.584     256720.0   0.498           0.09890   \n",
       "\n",
       "        liveness  loudness  speechiness    tempo  valence  \\\n",
       "93445      0.165    -3.299       0.0643  164.641  0.89900   \n",
       "431267     0.172   -10.236       0.9560   77.558  0.41300   \n",
       "514919     0.147   -12.131       0.0312  171.267  0.26800   \n",
       "36543      0.236   -13.634       0.0498   73.562  0.00001   \n",
       "637427     0.121    -8.160       0.0397   81.979  0.25700   \n",
       "\n",
       "        total_available_markets  release_date  topartist_id   key  mode  \\\n",
       "93445                      98.0        6208.0     31.259850  11.0   1.0   \n",
       "431267                      0.0         673.0      0.029091   1.0   1.0   \n",
       "514919                    181.0        2962.0     26.211667   7.0   1.0   \n",
       "36543                     184.0        2054.0     30.431532   1.0   1.0   \n",
       "637427                      0.0        3133.0     27.407863   6.0   0.0   \n",
       "\n",
       "        time_signature  artist_genre  \n",
       "93445              4.0     29.704464  \n",
       "431267             4.0           NaN  \n",
       "514919             4.0     30.705394  \n",
       "36543              1.0     27.816000  \n",
       "637427             4.0     35.419975  "
      ]
     },
     "execution_count": 6,
     "metadata": {},
     "output_type": "execute_result"
    }
   ],
   "source": [
    "te = TargetEncoder(cols=features_te, handle_missing='return_nan').fit(X_train, y_train)\n",
    "X_train = te.transform(X_train)\n",
    "X_dev = te.transform(X_dev)\n",
    "X_test = te.transform(X_test)\n",
    "X_train.head()"
   ]
  },
  {
   "cell_type": "code",
   "execution_count": 7,
   "id": "f7ffd1b4",
   "metadata": {},
   "outputs": [],
   "source": [
    "imputer = KNNImputer(n_neighbors=5).fit(X_train.sample(frac=0.1))\n",
    "X_train = pd.DataFrame(imputer.transform(X_train), columns=X_train.columns)\n",
    "X_dev = pd.DataFrame(imputer.transform(X_dev), columns=X_train.columns)\n",
    "X_test = pd.DataFrame(imputer.transform(X_test), columns=X_train.columns)"
   ]
  },
  {
   "cell_type": "code",
   "execution_count": 8,
   "id": "35c9b17d",
   "metadata": {},
   "outputs": [
    {
     "data": {
      "text/plain": [
       "acousticness               0\n",
       "danceability               0\n",
       "duration_ms                0\n",
       "energy                     0\n",
       "instrumentalness           0\n",
       "liveness                   0\n",
       "loudness                   0\n",
       "speechiness                0\n",
       "tempo                      0\n",
       "valence                    0\n",
       "total_available_markets    0\n",
       "release_date               0\n",
       "topartist_id               0\n",
       "key                        0\n",
       "mode                       0\n",
       "time_signature             0\n",
       "artist_genre               0\n",
       "dtype: int64"
      ]
     },
     "execution_count": 8,
     "metadata": {},
     "output_type": "execute_result"
    }
   ],
   "source": [
    "X_train.isnull().sum()"
   ]
  },
  {
   "cell_type": "code",
   "execution_count": 9,
   "id": "4e8947ff",
   "metadata": {},
   "outputs": [
    {
     "name": "stdout",
     "output_type": "stream",
     "text": [
      "(405807, 17) (135269, 17) (135269, 17)\n"
     ]
    }
   ],
   "source": [
    "print(X_train.shape, X_dev.shape, X_test.shape)"
   ]
  },
  {
   "cell_type": "code",
   "execution_count": null,
   "id": "11472b06",
   "metadata": {},
   "outputs": [],
   "source": []
  }
 ],
 "metadata": {
  "kernelspec": {
   "display_name": "Python 3 (ipykernel)",
   "language": "python",
   "name": "python3"
  },
  "language_info": {
   "codemirror_mode": {
    "name": "ipython",
    "version": 3
   },
   "file_extension": ".py",
   "mimetype": "text/x-python",
   "name": "python",
   "nbconvert_exporter": "python",
   "pygments_lexer": "ipython3",
   "version": "3.10.10"
  }
 },
 "nbformat": 4,
 "nbformat_minor": 5
}
