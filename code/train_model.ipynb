{
 "cells": [
  {
   "cell_type": "code",
   "execution_count": 1,
   "id": "2460d9e1",
   "metadata": {},
   "outputs": [],
   "source": [
    "import pandas as pd\n",
    "import numpy as np\n",
    "import datetime\n",
    "from category_encoders import TargetEncoder\n",
    "from sklearn.impute import KNNImputer\n",
    "from sklearn.model_selection import train_test_split\n",
    "import matplotlib.pyplot as plt"
   ]
  },
  {
   "cell_type": "markdown",
   "id": "007f3c07",
   "metadata": {},
   "source": [
    "### Load Data"
   ]
  },
  {
   "cell_type": "code",
   "execution_count": 7,
   "id": "149b45fa",
   "metadata": {},
   "outputs": [
    {
     "data": {
      "text/plain": [
       "(676345, 18)"
      ]
     },
     "execution_count": 7,
     "metadata": {},
     "output_type": "execute_result"
    }
   ],
   "source": [
    "df = pd.read_csv('../spotify-datasets/final_spotify_data_cleaned.csv')\n",
    "df.shape"
   ]
  },
  {
   "cell_type": "code",
   "execution_count": 18,
   "id": "4983aefe",
   "metadata": {},
   "outputs": [
    {
     "data": {
      "text/plain": [
       "popularity                      0\n",
       "acousticness                    0\n",
       "danceability                    0\n",
       "duration_ms                     0\n",
       "energy                          0\n",
       "instrumentalness                0\n",
       "liveness                        0\n",
       "loudness                        0\n",
       "speechiness                     0\n",
       "tempo                           0\n",
       "valence                         0\n",
       "total_available_markets         0\n",
       "release_date                    0\n",
       "topartist_id                    0\n",
       "key                             0\n",
       "mode                            0\n",
       "time_signature                  0\n",
       "artist_genre               164869\n",
       "dtype: int64"
      ]
     },
     "execution_count": 18,
     "metadata": {},
     "output_type": "execute_result"
    }
   ],
   "source": [
    "df.isnull().sum()"
   ]
  },
  {
   "cell_type": "markdown",
   "id": "3e23fe80",
   "metadata": {},
   "source": [
    "### Splitting Data"
   ]
  },
  {
   "cell_type": "code",
   "execution_count": 19,
   "id": "663d40ce",
   "metadata": {},
   "outputs": [],
   "source": [
    "X = df.drop('popularity', axis=1)\n",
    "y = df['popularity']\n",
    "X_train, X_test, y_train, y_test = train_test_split(X, y, test_size=0.2)\n",
    "X_train, X_dev, y_train, y_dev = train_test_split(X_train, y_train, test_size=0.25)"
   ]
  },
  {
   "cell_type": "markdown",
   "id": "1a75dbb0",
   "metadata": {},
   "source": [
    "### Target Encoding"
   ]
  },
  {
   "cell_type": "code",
   "execution_count": 20,
   "id": "dca28342",
   "metadata": {},
   "outputs": [],
   "source": [
    "features_te = ['topartist_id', 'artist_genre']"
   ]
  },
  {
   "cell_type": "code",
   "execution_count": 21,
   "id": "0fbe6d4f",
   "metadata": {},
   "outputs": [
    {
     "data": {
      "text/html": [
       "<div>\n",
       "<style scoped>\n",
       "    .dataframe tbody tr th:only-of-type {\n",
       "        vertical-align: middle;\n",
       "    }\n",
       "\n",
       "    .dataframe tbody tr th {\n",
       "        vertical-align: top;\n",
       "    }\n",
       "\n",
       "    .dataframe thead th {\n",
       "        text-align: right;\n",
       "    }\n",
       "</style>\n",
       "<table border=\"1\" class=\"dataframe\">\n",
       "  <thead>\n",
       "    <tr style=\"text-align: right;\">\n",
       "      <th></th>\n",
       "      <th>acousticness</th>\n",
       "      <th>danceability</th>\n",
       "      <th>duration_ms</th>\n",
       "      <th>energy</th>\n",
       "      <th>instrumentalness</th>\n",
       "      <th>liveness</th>\n",
       "      <th>loudness</th>\n",
       "      <th>speechiness</th>\n",
       "      <th>tempo</th>\n",
       "      <th>valence</th>\n",
       "      <th>total_available_markets</th>\n",
       "      <th>release_date</th>\n",
       "      <th>topartist_id</th>\n",
       "      <th>key</th>\n",
       "      <th>mode</th>\n",
       "      <th>time_signature</th>\n",
       "      <th>artist_genre</th>\n",
       "    </tr>\n",
       "  </thead>\n",
       "  <tbody>\n",
       "    <tr>\n",
       "      <th>258899</th>\n",
       "      <td>0.00328</td>\n",
       "      <td>0.762</td>\n",
       "      <td>573560.0</td>\n",
       "      <td>0.742</td>\n",
       "      <td>0.852000</td>\n",
       "      <td>0.0937</td>\n",
       "      <td>-8.156</td>\n",
       "      <td>0.0538</td>\n",
       "      <td>138.001</td>\n",
       "      <td>0.1160</td>\n",
       "      <td>184.0</td>\n",
       "      <td>1752.0</td>\n",
       "      <td>23.870975</td>\n",
       "      <td>10.0</td>\n",
       "      <td>0.0</td>\n",
       "      <td>4.0</td>\n",
       "      <td>26.406394</td>\n",
       "    </tr>\n",
       "    <tr>\n",
       "      <th>545091</th>\n",
       "      <td>0.20500</td>\n",
       "      <td>0.174</td>\n",
       "      <td>330493.0</td>\n",
       "      <td>0.445</td>\n",
       "      <td>0.769000</td>\n",
       "      <td>0.1160</td>\n",
       "      <td>-12.332</td>\n",
       "      <td>0.0363</td>\n",
       "      <td>118.071</td>\n",
       "      <td>0.0318</td>\n",
       "      <td>185.0</td>\n",
       "      <td>1492.0</td>\n",
       "      <td>22.076223</td>\n",
       "      <td>0.0</td>\n",
       "      <td>1.0</td>\n",
       "      <td>3.0</td>\n",
       "      <td>27.811881</td>\n",
       "    </tr>\n",
       "    <tr>\n",
       "      <th>649046</th>\n",
       "      <td>0.02480</td>\n",
       "      <td>0.432</td>\n",
       "      <td>171867.0</td>\n",
       "      <td>0.887</td>\n",
       "      <td>0.000243</td>\n",
       "      <td>0.2560</td>\n",
       "      <td>-6.883</td>\n",
       "      <td>0.0466</td>\n",
       "      <td>154.083</td>\n",
       "      <td>0.9130</td>\n",
       "      <td>168.0</td>\n",
       "      <td>15750.0</td>\n",
       "      <td>32.933261</td>\n",
       "      <td>7.0</td>\n",
       "      <td>1.0</td>\n",
       "      <td>4.0</td>\n",
       "      <td>32.469645</td>\n",
       "    </tr>\n",
       "    <tr>\n",
       "      <th>439791</th>\n",
       "      <td>0.67500</td>\n",
       "      <td>0.478</td>\n",
       "      <td>151773.0</td>\n",
       "      <td>0.305</td>\n",
       "      <td>0.001390</td>\n",
       "      <td>0.1690</td>\n",
       "      <td>-13.062</td>\n",
       "      <td>0.0306</td>\n",
       "      <td>108.660</td>\n",
       "      <td>0.0974</td>\n",
       "      <td>184.0</td>\n",
       "      <td>5583.0</td>\n",
       "      <td>34.783829</td>\n",
       "      <td>5.0</td>\n",
       "      <td>1.0</td>\n",
       "      <td>4.0</td>\n",
       "      <td>33.760138</td>\n",
       "    </tr>\n",
       "    <tr>\n",
       "      <th>288196</th>\n",
       "      <td>0.68900</td>\n",
       "      <td>0.703</td>\n",
       "      <td>123256.0</td>\n",
       "      <td>0.379</td>\n",
       "      <td>0.000000</td>\n",
       "      <td>0.1270</td>\n",
       "      <td>-20.805</td>\n",
       "      <td>0.9470</td>\n",
       "      <td>108.179</td>\n",
       "      <td>0.3200</td>\n",
       "      <td>0.0</td>\n",
       "      <td>5682.0</td>\n",
       "      <td>22.517979</td>\n",
       "      <td>0.0</td>\n",
       "      <td>0.0</td>\n",
       "      <td>5.0</td>\n",
       "      <td>22.142091</td>\n",
       "    </tr>\n",
       "  </tbody>\n",
       "</table>\n",
       "</div>"
      ],
      "text/plain": [
       "        acousticness  danceability  duration_ms  energy  instrumentalness  \\\n",
       "258899       0.00328         0.762     573560.0   0.742          0.852000   \n",
       "545091       0.20500         0.174     330493.0   0.445          0.769000   \n",
       "649046       0.02480         0.432     171867.0   0.887          0.000243   \n",
       "439791       0.67500         0.478     151773.0   0.305          0.001390   \n",
       "288196       0.68900         0.703     123256.0   0.379          0.000000   \n",
       "\n",
       "        liveness  loudness  speechiness    tempo  valence  \\\n",
       "258899    0.0937    -8.156       0.0538  138.001   0.1160   \n",
       "545091    0.1160   -12.332       0.0363  118.071   0.0318   \n",
       "649046    0.2560    -6.883       0.0466  154.083   0.9130   \n",
       "439791    0.1690   -13.062       0.0306  108.660   0.0974   \n",
       "288196    0.1270   -20.805       0.9470  108.179   0.3200   \n",
       "\n",
       "        total_available_markets  release_date  topartist_id   key  mode  \\\n",
       "258899                    184.0        1752.0     23.870975  10.0   0.0   \n",
       "545091                    185.0        1492.0     22.076223   0.0   1.0   \n",
       "649046                    168.0       15750.0     32.933261   7.0   1.0   \n",
       "439791                    184.0        5583.0     34.783829   5.0   1.0   \n",
       "288196                      0.0        5682.0     22.517979   0.0   0.0   \n",
       "\n",
       "        time_signature  artist_genre  \n",
       "258899             4.0     26.406394  \n",
       "545091             3.0     27.811881  \n",
       "649046             4.0     32.469645  \n",
       "439791             4.0     33.760138  \n",
       "288196             5.0     22.142091  "
      ]
     },
     "execution_count": 21,
     "metadata": {},
     "output_type": "execute_result"
    }
   ],
   "source": [
    "te = TargetEncoder(cols=features_te, handle_missing='return_nan').fit(X_train, y_train)\n",
    "X_train = te.transform(X_train)\n",
    "X_dev = te.transform(X_dev)\n",
    "X_test = te.transform(X_test)\n",
    "X_train.head()"
   ]
  },
  {
   "cell_type": "code",
   "execution_count": null,
   "id": "17f5323e",
   "metadata": {},
   "outputs": [],
   "source": [
    "imputer = KNNImputer().fit(X_train)\n",
    "X_train = imputer.transform(X_train)\n",
    "X_dev = imputer.transform(X_dev)\n",
    "X_test = imputer.transform(X_test)"
   ]
  },
  {
   "cell_type": "code",
   "execution_count": 17,
   "id": "70a2cddb",
   "metadata": {},
   "outputs": [
    {
     "data": {
      "text/plain": [
       "acousticness                   0\n",
       "danceability                   0\n",
       "duration_ms                    0\n",
       "energy                         0\n",
       "instrumentalness               0\n",
       "liveness                       0\n",
       "loudness                       0\n",
       "speechiness                    0\n",
       "tempo                          0\n",
       "valence                        0\n",
       "total_available_markets        0\n",
       "release_date                   0\n",
       "topartist_id                   0\n",
       "key                            0\n",
       "mode                           0\n",
       "time_signature                 0\n",
       "artist_genre               98691\n",
       "dtype: int64"
      ]
     },
     "execution_count": 17,
     "metadata": {},
     "output_type": "execute_result"
    }
   ],
   "source": [
    "X_train.isnull().sum()"
   ]
  },
  {
   "cell_type": "code",
   "execution_count": null,
   "id": "31019bac",
   "metadata": {},
   "outputs": [],
   "source": []
  }
 ],
 "metadata": {
  "kernelspec": {
   "display_name": "Python 3 (ipykernel)",
   "language": "python",
   "name": "python3"
  },
  "language_info": {
   "codemirror_mode": {
    "name": "ipython",
    "version": 3
   },
   "file_extension": ".py",
   "mimetype": "text/x-python",
   "name": "python",
   "nbconvert_exporter": "python",
   "pygments_lexer": "ipython3",
   "version": "3.10.10"
  }
 },
 "nbformat": 4,
 "nbformat_minor": 5
}
