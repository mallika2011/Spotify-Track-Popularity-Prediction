{
 "cells": [
  {
   "cell_type": "code",
   "execution_count": 1,
   "id": "5c12a1d7",
   "metadata": {},
   "outputs": [],
   "source": [
    "import pandas as pd\n",
    "import numpy as np\n",
    "import datetime\n",
    "from category_encoders import TargetEncoder\n",
    "from sklearn.impute import KNNImputer\n",
    "from sklearn.model_selection import train_test_split\n",
    "import matplotlib.pyplot as plt"
   ]
  },
  {
   "cell_type": "markdown",
   "id": "c79260a1",
   "metadata": {},
   "source": [
    "# Load Data"
   ]
  },
  {
   "cell_type": "code",
   "execution_count": 2,
   "id": "8aff1c18",
   "metadata": {},
   "outputs": [],
   "source": [
    "df = pd.read_csv('../spotify-datasets/final_spotify_data.csv')\n",
    "df_raw = df # keep copy of df"
   ]
  },
  {
   "cell_type": "code",
   "execution_count": 3,
   "id": "f1d97d14",
   "metadata": {},
   "outputs": [
    {
     "data": {
      "text/plain": [
       "(676681, 24)"
      ]
     },
     "execution_count": 3,
     "metadata": {},
     "output_type": "execute_result"
    }
   ],
   "source": [
    "df.shape"
   ]
  },
  {
   "cell_type": "code",
   "execution_count": 4,
   "id": "74c17d97",
   "metadata": {},
   "outputs": [
    {
     "data": {
      "text/plain": [
       "Index(['Unnamed: 0', 'track_id', 'track_name', 'popularity', 'acousticness',\n",
       "       'danceability', 'duration_ms', 'energy', 'instrumentalness', 'liveness',\n",
       "       'loudness', 'speechiness', 'tempo', 'valence',\n",
       "       'total_available_markets', 'release_date', 'topartist_id',\n",
       "       'topartist_name', 'artist_names', 'key', 'mode', 'time_signature',\n",
       "       'artist_genre', 'artist_genre_list'],\n",
       "      dtype='object')"
      ]
     },
     "execution_count": 4,
     "metadata": {},
     "output_type": "execute_result"
    }
   ],
   "source": [
    "df.columns"
   ]
  },
  {
   "cell_type": "code",
   "execution_count": 5,
   "id": "2652ab1d",
   "metadata": {},
   "outputs": [
    {
     "data": {
      "text/plain": [
       "0.8716115865526001"
      ]
     },
     "execution_count": 5,
     "metadata": {},
     "output_type": "execute_result"
    }
   ],
   "source": [
    "(df_raw['popularity'] < 50).sum() / df_raw.shape[0]"
   ]
  },
  {
   "cell_type": "code",
   "execution_count": 6,
   "id": "ada37624",
   "metadata": {},
   "outputs": [
    {
     "data": {
      "image/png": "[encoded data removed]",
      "text/plain": [
       "<Figure size 640x480 with 1 Axes>"
      ]
     },
     "metadata": {},
     "output_type": "display_data"
    }
   ],
   "source": [
    "fig, ax = plt.subplots()\n",
    "ax.hist(df_raw['popularity'], bins=20)\n",
    "ax.set_xlabel('popularity')\n",
    "ax.set_ylabel('number of tracks')\n",
    "ax.set_title('Label Distribution')\n",
    "plt.savefig('../plots/label_distribution.jpeg', dpi=300)"
   ]
  },
  {
   "cell_type": "markdown",
   "id": "dd7f5327",
   "metadata": {},
   "source": [
    "### Column information of non numerical columns and processing technique\n",
    "\n",
    "| Name | Description | Preprocessing |\n",
    "| :---:| :---------- | :------------ |\n",
    "| Unnamed: 0 | indices of the each row | dropped |\n",
    "| track_id | unique encoding of track | dropped |\n",
    "| track_name | name of the track | dropped (sentiment analysis?) |\n",
    "| release_date | date track was released | encode as num of days away from 2022-12-31. if only year is available, impute value as year-7-2, impute value as year-month-15 |\n",
    "| topartist_id | unique encoding of artist | target encoding |\n",
    "| topartist_name | name of top artist of track | drop (overlap with topartist_id)|\n",
    "| artist_names | name of all artists of track | drop (overlap with topartist_id)|\n",
    "| artist_genre | genre of the artist, with 5067 unique values | target encoding |\n",
    "| artist_genre_list | list of artist's genre | drop | "
   ]
  },
  {
   "cell_type": "code",
   "execution_count": 7,
   "id": "ce28fdc6",
   "metadata": {},
   "outputs": [],
   "source": [
    "features_drop = ['Unnamed: 0', 'track_id', 'track_name', 'track_name', 'topartist_name', 'artist_names', 'artist_genre_list']\n",
    "features_te = ['topartist_id', 'artist_genre']"
   ]
  },
  {
   "cell_type": "markdown",
   "id": "95934d49",
   "metadata": {},
   "source": [
    "### Encode release date"
   ]
  },
  {
   "cell_type": "code",
   "execution_count": 8,
   "id": "2959fc04",
   "metadata": {},
   "outputs": [],
   "source": [
    "def date2days(date):\n",
    "    if(date == '0000'):\n",
    "        return None\n",
    "    if(len(date.split('-')) == 1):\n",
    "        date = date + \"-7-2\"\n",
    "    if(len(date.split('-')) == 2):\n",
    "        date = date + \"-15\"\n",
    "\n",
    "    year, month, day = date.split('-')\n",
    "    days = (datetime.datetime(2022, 12, 31) - datetime.datetime(int(year), int(month), int(day))).days\n",
    "        \n",
    "    return days"
   ]
  },
  {
   "cell_type": "code",
   "execution_count": 9,
   "id": "1c8601bd",
   "metadata": {},
   "outputs": [],
   "source": [
    "df['release_date'] = df['release_date'].apply(date2days)"
   ]
  },
  {
   "cell_type": "markdown",
   "id": "0f23d6cd",
   "metadata": {},
   "source": [
    "### Drop features_drop"
   ]
  },
  {
   "cell_type": "code",
   "execution_count": 10,
   "id": "2a1d53ee",
   "metadata": {},
   "outputs": [],
   "source": [
    "df = df.drop(features_drop, axis=1)"
   ]
  },
  {
   "cell_type": "code",
   "execution_count": 11,
   "id": "2e9dd6ef",
   "metadata": {},
   "outputs": [
    {
     "data": {
      "text/plain": [
       "Index(['popularity', 'acousticness', 'danceability', 'duration_ms', 'energy',\n",
       "       'instrumentalness', 'liveness', 'loudness', 'speechiness', 'tempo',\n",
       "       'valence', 'total_available_markets', 'release_date', 'topartist_id',\n",
       "       'key', 'mode', 'time_signature', 'artist_genre'],\n",
       "      dtype='object')"
      ]
     },
     "execution_count": 11,
     "metadata": {},
     "output_type": "execute_result"
    }
   ],
   "source": [
    "df.columns"
   ]
  },
  {
   "cell_type": "markdown",
   "id": "64f49b9e",
   "metadata": {},
   "source": [
    "### Remove Null"
   ]
  },
  {
   "cell_type": "code",
   "execution_count": 12,
   "id": "02aa558d",
   "metadata": {},
   "outputs": [
    {
     "data": {
      "text/plain": [
       "popularity                      0\n",
       "acousticness                    0\n",
       "danceability                    0\n",
       "duration_ms                     0\n",
       "energy                          0\n",
       "instrumentalness                0\n",
       "liveness                        0\n",
       "loudness                        0\n",
       "speechiness                     0\n",
       "tempo                           0\n",
       "valence                         0\n",
       "total_available_markets         0\n",
       "release_date                  336\n",
       "topartist_id                    0\n",
       "key                             0\n",
       "mode                            0\n",
       "time_signature                  0\n",
       "artist_genre               165201\n",
       "dtype: int64"
      ]
     },
     "execution_count": 12,
     "metadata": {},
     "output_type": "execute_result"
    }
   ],
   "source": [
    "df.isnull().sum()"
   ]
  },
  {
   "cell_type": "code",
   "execution_count": 13,
   "id": "52b086cd",
   "metadata": {},
   "outputs": [],
   "source": [
    "### drop null release date\n",
    "df = df[df['release_date'].notnull()]"
   ]
  },
  {
   "cell_type": "markdown",
   "id": "755b051a",
   "metadata": {},
   "source": [
    "### Store cleaned data"
   ]
  },
  {
   "cell_type": "code",
   "execution_count": 15,
   "id": "13b1f0ca",
   "metadata": {},
   "outputs": [],
   "source": [
    "df.to_csv('../spotify-datasets/final_spotify_data_cleaned.csv', index=False)"
   ]
  },
  {
   "cell_type": "code",
   "execution_count": null,
   "id": "3939e2c7",
   "metadata": {},
   "outputs": [],
   "source": []
  }
 ],
 "metadata": {
  "kernelspec": {
   "display_name": "Python 3 (ipykernel)",
   "language": "python",
   "name": "python3"
  },
  "language_info": {
   "codemirror_mode": {
    "name": "ipython",
    "version": 3
   },
   "file_extension": ".py",
   "mimetype": "text/x-python",
   "name": "python",
   "nbconvert_exporter": "python",
   "pygments_lexer": "ipython3",
   "version": "3.10.10"
  }
 },
 "nbformat": 4,
 "nbformat_minor": 5
}
