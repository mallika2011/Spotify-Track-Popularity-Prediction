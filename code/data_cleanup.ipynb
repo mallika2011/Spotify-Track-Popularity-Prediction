{
 "cells": [
  {
   "cell_type": "code",
   "execution_count": 123,
   "id": "55e983cd",
   "metadata": {},
   "outputs": [],
   "source": [
    "import pandas as pd\n",
    "import numpy as np\n",
    "import datetime\n",
    "from category_encoders import TargetEncoder"
   ]
  },
  {
   "cell_type": "markdown",
   "id": "2e728cc6",
   "metadata": {},
   "source": [
    "# Load Data"
   ]
  },
  {
   "cell_type": "code",
   "execution_count": 116,
   "id": "d796b23e",
   "metadata": {},
   "outputs": [],
   "source": [
    "df = pd.read_csv('../spotify-datasets/final_spotify_data.csv')\n",
    "df_raw = df # keep copy of df"
   ]
  },
  {
   "cell_type": "code",
   "execution_count": 5,
   "id": "6ac4b4e2",
   "metadata": {},
   "outputs": [
    {
     "data": {
      "text/plain": [
       "Index(['Unnamed: 0', 'track_id', 'track_name', 'popularity', 'acousticness',\n",
       "       'danceability', 'duration_ms', 'energy', 'instrumentalness', 'liveness',\n",
       "       'loudness', 'speechiness', 'tempo', 'valence',\n",
       "       'total_available_markets', 'release_date', 'topartist_id',\n",
       "       'topartist_name', 'artist_names', 'key', 'mode', 'time_signature',\n",
       "       'artist_genre', 'artist_genre_list'],\n",
       "      dtype='object')"
      ]
     },
     "execution_count": 5,
     "metadata": {},
     "output_type": "execute_result"
    }
   ],
   "source": [
    "df.columns"
   ]
  },
  {
   "cell_type": "code",
   "execution_count": 122,
   "id": "f93eb964",
   "metadata": {},
   "outputs": [
    {
     "data": {
      "text/plain": [
       "5067"
      ]
     },
     "execution_count": 122,
     "metadata": {},
     "output_type": "execute_result"
    }
   ],
   "source": [
    "len(df['artist_genre'].unique())"
   ]
  },
  {
   "cell_type": "code",
   "execution_count": 54,
   "id": "db2ad870",
   "metadata": {},
   "outputs": [
    {
     "data": {
      "text/plain": [
       "0"
      ]
     },
     "execution_count": 54,
     "metadata": {},
     "output_type": "execute_result"
    }
   ],
   "source": [
    "df['release_date'].isna().sum()"
   ]
  },
  {
   "cell_type": "markdown",
   "id": "8b17fa65",
   "metadata": {},
   "source": [
    "### Column information of non numerical columns and processing technique\n",
    "\n",
    "| Name | Description | Preprocessing |\n",
    "| :---:| :---------- | :------------ |\n",
    "| Unnamed: 0 | indices of the each row | dropped |\n",
    "| track_id | unique encoding of track | dropped |\n",
    "| track_name | name of the track | dropped (sentiment analysis?) |\n",
    "| release_date | date track was released | encode as num of days away from 2022-12-31. if only year is available, impute value as year-7-2, impute value as year-month-15 |\n",
    "| topartist_id | unique encoding of artist | target encoding |\n",
    "| topartist_name | name of top artist of track | drop (overlap with topartist_id)|\n",
    "| artist_names | name of all artists of track | drop (overlap with topartist_id)|\n",
    "| artist_genre | genre of the artist, with 5067 unique values | target encoding |\n",
    "| artist_genre_list | list of artist's genre | drop | "
   ]
  },
  {
   "cell_type": "code",
   "execution_count": 111,
   "id": "394b59a6",
   "metadata": {},
   "outputs": [],
   "source": [
    "features_drop = ['Unnamed: 0', 'track_id', 'track_name', 'track_name', 'topartist_name', 'artist_names', 'artist_genre_list']\n",
    "features_te = ['topartist_id', 'artist_genre']"
   ]
  },
  {
   "cell_type": "markdown",
   "id": "7fd4d0b5",
   "metadata": {},
   "source": [
    "### Encode release date"
   ]
  },
  {
   "cell_type": "code",
   "execution_count": 114,
   "id": "ef340b55",
   "metadata": {},
   "outputs": [],
   "source": [
    "def date2days(date):\n",
    "    if(date == '0000'):\n",
    "        return None\n",
    "    if(len(date.split('-')) == 1):\n",
    "        date = date + \"-7-2\"\n",
    "    if(len(date.split('-')) == 2):\n",
    "        date = date + \"-15\"\n",
    "\n",
    "    year, month, day = date.split('-')\n",
    "    days = (datetime.datetime(2022, 12, 31) - datetime.datetime(int(year), int(month), int(day))).days\n",
    "        \n",
    "    return days"
   ]
  },
  {
   "cell_type": "code",
   "execution_count": 117,
   "id": "b7ed3318",
   "metadata": {},
   "outputs": [],
   "source": [
    "df['release_date'] = df['release_date'].apply(date2days)"
   ]
  },
  {
   "cell_type": "markdown",
   "id": "6bb0707c",
   "metadata": {},
   "source": [
    "### Drop features_drop"
   ]
  },
  {
   "cell_type": "code",
   "execution_count": 118,
   "id": "dc2cb2c3",
   "metadata": {},
   "outputs": [],
   "source": [
    "df = df.drop(features_drop, axis=1)"
   ]
  },
  {
   "cell_type": "code",
   "execution_count": 133,
   "id": "1ca90a74",
   "metadata": {},
   "outputs": [
    {
     "data": {
      "text/plain": [
       "Index(['popularity', 'acousticness', 'danceability', 'duration_ms', 'energy',\n",
       "       'instrumentalness', 'liveness', 'loudness', 'speechiness', 'tempo',\n",
       "       'valence', 'total_available_markets', 'release_date', 'topartist_id',\n",
       "       'key', 'mode', 'time_signature', 'artist_genre'],\n",
       "      dtype='object')"
      ]
     },
     "execution_count": 133,
     "metadata": {},
     "output_type": "execute_result"
    }
   ],
   "source": [
    "df.columns"
   ]
  },
  {
   "cell_type": "markdown",
   "id": "b5aaa535",
   "metadata": {},
   "source": [
    "### Target Encoding"
   ]
  },
  {
   "cell_type": "code",
   "execution_count": 135,
   "id": "180851cc",
   "metadata": {},
   "outputs": [
    {
     "data": {
      "text/html": [
       "<div>\n",
       "<style scoped>\n",
       "    .dataframe tbody tr th:only-of-type {\n",
       "        vertical-align: middle;\n",
       "    }\n",
       "\n",
       "    .dataframe tbody tr th {\n",
       "        vertical-align: top;\n",
       "    }\n",
       "\n",
       "    .dataframe thead th {\n",
       "        text-align: right;\n",
       "    }\n",
       "</style>\n",
       "<table border=\"1\" class=\"dataframe\">\n",
       "  <thead>\n",
       "    <tr style=\"text-align: right;\">\n",
       "      <th></th>\n",
       "      <th>popularity</th>\n",
       "      <th>acousticness</th>\n",
       "      <th>danceability</th>\n",
       "      <th>duration_ms</th>\n",
       "      <th>energy</th>\n",
       "      <th>instrumentalness</th>\n",
       "      <th>liveness</th>\n",
       "      <th>loudness</th>\n",
       "      <th>speechiness</th>\n",
       "      <th>tempo</th>\n",
       "      <th>valence</th>\n",
       "      <th>total_available_markets</th>\n",
       "      <th>release_date</th>\n",
       "      <th>topartist_id</th>\n",
       "      <th>key</th>\n",
       "      <th>mode</th>\n",
       "      <th>time_signature</th>\n",
       "      <th>artist_genre</th>\n",
       "    </tr>\n",
       "  </thead>\n",
       "  <tbody>\n",
       "    <tr>\n",
       "      <th>0</th>\n",
       "      <td>100</td>\n",
       "      <td>0.72100</td>\n",
       "      <td>0.585</td>\n",
       "      <td>242014.0</td>\n",
       "      <td>0.436</td>\n",
       "      <td>0.000013</td>\n",
       "      <td>0.1050</td>\n",
       "      <td>-8.761</td>\n",
       "      <td>0.0601</td>\n",
       "      <td>143.874</td>\n",
       "      <td>0.132</td>\n",
       "      <td>1.0</td>\n",
       "      <td>722.0</td>\n",
       "      <td>48.611201</td>\n",
       "      <td>10.0</td>\n",
       "      <td>1.0</td>\n",
       "      <td>4.0</td>\n",
       "      <td>54.474876</td>\n",
       "    </tr>\n",
       "    <tr>\n",
       "      <th>1</th>\n",
       "      <td>96</td>\n",
       "      <td>0.02120</td>\n",
       "      <td>0.680</td>\n",
       "      <td>215627.0</td>\n",
       "      <td>0.826</td>\n",
       "      <td>0.000012</td>\n",
       "      <td>0.5430</td>\n",
       "      <td>-5.487</td>\n",
       "      <td>0.0309</td>\n",
       "      <td>118.051</td>\n",
       "      <td>0.644</td>\n",
       "      <td>184.0</td>\n",
       "      <td>1016.0</td>\n",
       "      <td>59.817724</td>\n",
       "      <td>0.0</td>\n",
       "      <td>1.0</td>\n",
       "      <td>4.0</td>\n",
       "      <td>46.678300</td>\n",
       "    </tr>\n",
       "    <tr>\n",
       "      <th>2</th>\n",
       "      <td>96</td>\n",
       "      <td>0.00146</td>\n",
       "      <td>0.514</td>\n",
       "      <td>200040.0</td>\n",
       "      <td>0.730</td>\n",
       "      <td>0.000095</td>\n",
       "      <td>0.0897</td>\n",
       "      <td>-5.934</td>\n",
       "      <td>0.0598</td>\n",
       "      <td>171.005</td>\n",
       "      <td>0.334</td>\n",
       "      <td>184.0</td>\n",
       "      <td>1016.0</td>\n",
       "      <td>59.817724</td>\n",
       "      <td>1.0</td>\n",
       "      <td>1.0</td>\n",
       "      <td>4.0</td>\n",
       "      <td>46.678300</td>\n",
       "    </tr>\n",
       "    <tr>\n",
       "      <th>3</th>\n",
       "      <td>95</td>\n",
       "      <td>0.22100</td>\n",
       "      <td>0.700</td>\n",
       "      <td>140526.0</td>\n",
       "      <td>0.722</td>\n",
       "      <td>0.000000</td>\n",
       "      <td>0.2720</td>\n",
       "      <td>-3.558</td>\n",
       "      <td>0.0369</td>\n",
       "      <td>90.989</td>\n",
       "      <td>0.756</td>\n",
       "      <td>0.0</td>\n",
       "      <td>890.0</td>\n",
       "      <td>47.025026</td>\n",
       "      <td>7.0</td>\n",
       "      <td>0.0</td>\n",
       "      <td>4.0</td>\n",
       "      <td>35.031905</td>\n",
       "    </tr>\n",
       "    <tr>\n",
       "      <th>4</th>\n",
       "      <td>94</td>\n",
       "      <td>0.21300</td>\n",
       "      <td>0.662</td>\n",
       "      <td>161385.0</td>\n",
       "      <td>0.413</td>\n",
       "      <td>0.000000</td>\n",
       "      <td>0.1340</td>\n",
       "      <td>-7.357</td>\n",
       "      <td>0.0299</td>\n",
       "      <td>93.005</td>\n",
       "      <td>0.467</td>\n",
       "      <td>0.0</td>\n",
       "      <td>785.0</td>\n",
       "      <td>58.978145</td>\n",
       "      <td>0.0</td>\n",
       "      <td>1.0</td>\n",
       "      <td>4.0</td>\n",
       "      <td>50.576518</td>\n",
       "    </tr>\n",
       "  </tbody>\n",
       "</table>\n",
       "</div>"
      ],
      "text/plain": [
       "   popularity  acousticness  danceability  duration_ms  energy  \\\n",
       "0         100       0.72100         0.585     242014.0   0.436   \n",
       "1          96       0.02120         0.680     215627.0   0.826   \n",
       "2          96       0.00146         0.514     200040.0   0.730   \n",
       "3          95       0.22100         0.700     140526.0   0.722   \n",
       "4          94       0.21300         0.662     161385.0   0.413   \n",
       "\n",
       "   instrumentalness  liveness  loudness  speechiness    tempo  valence  \\\n",
       "0          0.000013    0.1050    -8.761       0.0601  143.874    0.132   \n",
       "1          0.000012    0.5430    -5.487       0.0309  118.051    0.644   \n",
       "2          0.000095    0.0897    -5.934       0.0598  171.005    0.334   \n",
       "3          0.000000    0.2720    -3.558       0.0369   90.989    0.756   \n",
       "4          0.000000    0.1340    -7.357       0.0299   93.005    0.467   \n",
       "\n",
       "   total_available_markets  release_date  topartist_id   key  mode  \\\n",
       "0                      1.0         722.0     48.611201  10.0   1.0   \n",
       "1                    184.0        1016.0     59.817724   0.0   1.0   \n",
       "2                    184.0        1016.0     59.817724   1.0   1.0   \n",
       "3                      0.0         890.0     47.025026   7.0   0.0   \n",
       "4                      0.0         785.0     58.978145   0.0   1.0   \n",
       "\n",
       "   time_signature  artist_genre  \n",
       "0             4.0     54.474876  \n",
       "1             4.0     46.678300  \n",
       "2             4.0     46.678300  \n",
       "3             4.0     35.031905  \n",
       "4             4.0     50.576518  "
      ]
     },
     "execution_count": 135,
     "metadata": {},
     "output_type": "execute_result"
    }
   ],
   "source": [
    "te = TargetEncoder(cols=features_te).fit(df, df['popularity'])\n",
    "df = te.transform(df).head()\n",
    "df.head()"
   ]
  },
  {
   "cell_type": "code",
   "execution_count": 136,
   "id": "919ee252",
   "metadata": {},
   "outputs": [],
   "source": [
    "df.to_csv('../spotify-datasets/final_spotify_data_cleaned.csv')"
   ]
  },
  {
   "cell_type": "code",
   "execution_count": null,
   "id": "e43665ae",
   "metadata": {},
   "outputs": [],
   "source": []
  }
 ],
 "metadata": {
  "kernelspec": {
   "display_name": "Python 3 (ipykernel)",
   "language": "python",
   "name": "python3"
  },
  "language_info": {
   "codemirror_mode": {
    "name": "ipython",
    "version": 3
   },
   "file_extension": ".py",
   "mimetype": "text/x-python",
   "name": "python",
   "nbconvert_exporter": "python",
   "pygments_lexer": "ipython3",
   "version": "3.10.10"
  }
 },
 "nbformat": 4,
 "nbformat_minor": 5
}
